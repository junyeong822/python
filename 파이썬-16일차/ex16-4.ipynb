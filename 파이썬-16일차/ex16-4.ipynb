{
 "cells": [
  {
   "cell_type": "code",
   "execution_count": 23,
   "id": "b048e20b-75b0-4bf3-a5ed-30aede466200",
   "metadata": {},
   "outputs": [
    {
     "name": "stdout",
     "output_type": "stream",
     "text": [
      "-1000입금불가\n",
      "123계좌 잔액 : 6000원\n",
      "456계좌 잔액 : 8000원\n"
     ]
    }
   ],
   "source": [
    "class BankError(Exception) :\n",
    "    def __init__(self, message) : \n",
    "        super().__init__(message)\n",
    "\n",
    "class BankAccount : \n",
    "    def __init__(self, acc_no, balance) : \n",
    "        self.acc_no = acc_no\n",
    "        self.balance = balance\n",
    "        \n",
    "    def deposit(self, money) : \n",
    "        try : \n",
    "            if money <= 0 :\n",
    "                raise BankError(f'{money}입금불가')\n",
    "        except Exception as e : \n",
    "            print(e)\n",
    "        else : \n",
    "            self.balance += money\n",
    "        \n",
    "    def withdraw(self, money) : \n",
    "        self.balance -= money\n",
    "        return money\n",
    "    \n",
    "    def transfer(self, acc, money) : \n",
    "        acc.deposit( self.withdraw(money) )\n",
    "    \n",
    "    def inquiry(self) : \n",
    "        print(f'{self.acc_no}계좌 잔액 : {self.balance}원')\n",
    "        \n",
    "me = BankAccount('123', 5000)\n",
    "you = BankAccount('456', 5000)\n",
    "\n",
    "try : \n",
    "    me.deposit(-1000)\n",
    "    me.deposit(1000)\n",
    "except BankError as e : \n",
    "    print(e)\n",
    "finally : \n",
    "    me.inquiry()\n",
    "\n",
    "me.transfer(you, 3000)\n",
    "you.inquiry()"
   ]
  }
 ],
 "metadata": {
  "kernelspec": {
   "display_name": "Python 3 (ipykernel)",
   "language": "python",
   "name": "python3"
  },
  "language_info": {
   "codemirror_mode": {
    "name": "ipython",
    "version": 3
   },
   "file_extension": ".py",
   "mimetype": "text/x-python",
   "name": "python",
   "nbconvert_exporter": "python",
   "pygments_lexer": "ipython3",
   "version": "3.12.4"
  }
 },
 "nbformat": 4,
 "nbformat_minor": 5
}
