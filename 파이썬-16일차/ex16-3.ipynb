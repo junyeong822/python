{
 "cells": [
  {
   "cell_type": "code",
   "execution_count": 1,
   "id": "579e9226-b77a-48e3-b08e-7d9fc8c69779",
   "metadata": {},
   "outputs": [
    {
     "name": "stdin",
     "output_type": "stream",
     "text": [
      "숫자 입력 :  -1\n"
     ]
    },
    {
     "name": "stdout",
     "output_type": "stream",
     "text": [
      "메시지-강제 예외 발생시킴\n"
     ]
    }
   ],
   "source": [
    "# 사용자 입장에서 예외라고 생각되는 상황을 예외 처리할 수 있도록 만드는 것\n",
    "\n",
    "try : \n",
    "    n = int(input('숫자 입력 : '))\n",
    "    if n < 0 or n > 100 :\n",
    "        raise Exception('메시지- 강제 예외 발생시킴')\n",
    "except Exception as e: \n",
    "    print(e)\n",
    "    "
   ]
  },
  {
   "cell_type": "code",
   "execution_count": null,
   "id": "58a157ec-403a-4ba6-8bbe-2733daff2768",
   "metadata": {},
   "outputs": [
    {
     "name": "stdin",
     "output_type": "stream",
     "text": [
      "숫자 입력 :  5\n"
     ]
    },
    {
     "name": "stdout",
     "output_type": "stream",
     "text": [
      "up\n"
     ]
    },
    {
     "name": "stdin",
     "output_type": "stream",
     "text": [
      "숫자 입력 :  50\n"
     ]
    },
    {
     "name": "stdout",
     "output_type": "stream",
     "text": [
      "up\n"
     ]
    },
    {
     "name": "stdin",
     "output_type": "stream",
     "text": [
      "숫자 입력 :  75\n"
     ]
    },
    {
     "name": "stdout",
     "output_type": "stream",
     "text": [
      "down\n"
     ]
    },
    {
     "name": "stdin",
     "output_type": "stream",
     "text": [
      "숫자 입력 :  65\n"
     ]
    },
    {
     "name": "stdout",
     "output_type": "stream",
     "text": [
      "down\n"
     ]
    },
    {
     "name": "stdin",
     "output_type": "stream",
     "text": [
      "숫자 입력 :  55\n"
     ]
    },
    {
     "name": "stdout",
     "output_type": "stream",
     "text": [
      "up\n"
     ]
    },
    {
     "name": "stdin",
     "output_type": "stream",
     "text": [
      "숫자 입력 :  60\n"
     ]
    },
    {
     "name": "stdout",
     "output_type": "stream",
     "text": [
      "up\n"
     ]
    },
    {
     "name": "stdin",
     "output_type": "stream",
     "text": [
      "숫자 입력 :  62\n"
     ]
    },
    {
     "name": "stdout",
     "output_type": "stream",
     "text": [
      "7번 만에 정답!\n"
     ]
    }
   ],
   "source": [
    "import random \n",
    "\n",
    "class UpDown() : \n",
    "    def __init__(self) : \n",
    "        self.answer = random.randint(0,100)\n",
    "        self.count = 0\n",
    "    def challenge(self) : \n",
    "        try : \n",
    "            user = int(input('숫자 입력 : '))\n",
    "            if user < 0 or user > 100 :\n",
    "                raise Exception('0~100사이 값 입력') # 강제 예외 발생\n",
    "                \n",
    "            self.count += 1\n",
    "\n",
    "            if self.answer == user : \n",
    "                print(f'{self.count}번 만에 정답!')\n",
    "                return \n",
    "            elif self.answer > user : \n",
    "                print('up')\n",
    "            else : \n",
    "                print('down')\n",
    "            \n",
    "        except Exception as e : \n",
    "            print(e)\n",
    "        finally : \n",
    "            self.challenge()\n",
    "\n",
    "    def play(self) : \n",
    "        self.challenge()\n",
    "            \n",
    "game = UpDown()\n",
    "game.play()"
   ]
  },
  {
   "cell_type": "code",
   "execution_count": null,
   "id": "7199f7d1-6148-4862-bce7-3ffce8f9a97b",
   "metadata": {},
   "outputs": [],
   "source": []
  },
  {
   "cell_type": "code",
   "execution_count": null,
   "id": "3dfb45b7-761b-488c-be6b-4095f9a0eab6",
   "metadata": {},
   "outputs": [],
   "source": []
  },
  {
   "cell_type": "code",
   "execution_count": null,
   "id": "bdf14ff5-c30c-431f-8048-a36d447c35bc",
   "metadata": {},
   "outputs": [],
   "source": []
  },
  {
   "cell_type": "code",
   "execution_count": null,
   "id": "87e198c1-2879-4180-bbf5-4299c99b9e8b",
   "metadata": {},
   "outputs": [],
   "source": []
  },
  {
   "cell_type": "code",
   "execution_count": null,
   "id": "cb57d673-38a8-4a44-93bc-412d169ea904",
   "metadata": {},
   "outputs": [],
   "source": []
  },
  {
   "cell_type": "code",
   "execution_count": null,
   "id": "6e2d9967-4152-4ccf-aceb-413cd5829397",
   "metadata": {},
   "outputs": [],
   "source": []
  },
  {
   "cell_type": "code",
   "execution_count": null,
   "id": "7ed2ec63-5d11-4bb7-b355-a7c5b966624d",
   "metadata": {},
   "outputs": [],
   "source": []
  },
  {
   "cell_type": "code",
   "execution_count": null,
   "id": "9421beca-1abd-4316-8ba4-88ce509eb626",
   "metadata": {},
   "outputs": [],
   "source": []
  },
  {
   "cell_type": "code",
   "execution_count": null,
   "id": "1483a78d-23a7-4422-ba3f-79b123d8922b",
   "metadata": {},
   "outputs": [],
   "source": []
  }
 ],
 "metadata": {
  "kernelspec": {
   "display_name": "Python 3 (ipykernel)",
   "language": "python",
   "name": "python3"
  },
  "language_info": {
   "codemirror_mode": {
    "name": "ipython",
    "version": 3
   },
   "file_extension": ".py",
   "mimetype": "text/x-python",
   "name": "python",
   "nbconvert_exporter": "python",
   "pygments_lexer": "ipython3",
   "version": "3.12.4"
  }
 },
 "nbformat": 4,
 "nbformat_minor": 5
}
