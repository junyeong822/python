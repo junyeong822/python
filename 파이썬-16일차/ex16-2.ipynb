{
 "cells": [
  {
   "cell_type": "code",
   "execution_count": 11,
   "id": "0c5e18c7-c70e-4f23-9d3f-94ab7a39d6f2",
   "metadata": {},
   "outputs": [
    {
     "name": "stdin",
     "output_type": "stream",
     "text": [
      "숫자 1:  20\n",
      "숫자 2:  30\n"
     ]
    },
    {
     "name": "stdout",
     "output_type": "stream",
     "text": [
      "0.6666666666666666\n"
     ]
    }
   ],
   "source": [
    "x = int(input('숫자 1: '))\n",
    "y = int(input('숫자 2: '))\n",
    "\n",
    "try : \n",
    "    # 실행할 코드 여기서 작성 - 만약 예외가 발생하면 except 부분으로 넘어간다\n",
    "    r = x / y\n",
    "    print(r)\n",
    "except : \n",
    "    # 예외 발생하면 처리할 구문\n",
    "    print('암튼 뭔가 예외 발생!')\n",
    "    "
   ]
  },
  {
   "cell_type": "code",
   "execution_count": 45,
   "id": "d0eb78e7-4788-47b4-95d8-a5c1d88a019c",
   "metadata": {},
   "outputs": [
    {
     "name": "stdin",
     "output_type": "stream",
     "text": [
      "출력한 인덱스 번호 ㅇ\n"
     ]
    },
    {
     "name": "stdout",
     "output_type": "stream",
     "text": [
      "invalid literal for int() with base 10: 'ㅇ'\n",
      "숫자 값 입력\n",
      "프로그램 종료\n"
     ]
    }
   ],
   "source": [
    "num=[1,2,3] # 0~2번가지 인덱스\n",
    "# 출력할 인덱스 값을 입력 받아서, 출력하라. \n",
    "# 만약, 해당 인덱스의 값이 없으면(인덱스가 잘못되면) , 인덱스 오류 메시지 출력\n",
    "try : \n",
    "    i = int(input('출력한 인덱스 번호'))\n",
    "    print(num[i])\n",
    "\n",
    "except ValueError as msg : \n",
    "    print(msg)\n",
    "    print('숫자 값 입력')\n",
    "except IndexError: \n",
    "    print('인덱스 에러')\n",
    "except : \n",
    "    print('기타 에러')\n",
    "else : \n",
    "    print('예외 없이 처리 완료')\n",
    "finally : \n",
    "    print('프로그램 종료')"
   ]
  },
  {
   "cell_type": "code",
   "execution_count": 11,
   "id": "e27740d5-fe09-4581-9814-4ad24ec82bdb",
   "metadata": {},
   "outputs": [
    {
     "name": "stdout",
     "output_type": "stream",
     "text": [
      "우리 나라 9개 도 맞추기\n"
     ]
    },
    {
     "name": "stdin",
     "output_type": "stream",
     "text": [
      "정답 입력 :  아\n"
     ]
    },
    {
     "name": "stdout",
     "output_type": "stream",
     "text": [
      "틀렸습니다\n"
     ]
    }
   ],
   "source": [
    "# 재귀 함수 - 나를 다시 호출하는 메서드\n",
    "# try~except문으로 처리\n",
    "\n",
    "class Quiz : \n",
    "    answer = ['경기도','강원도','충청도',]\n",
    "\n",
    "    @classmethod\n",
    "    def challenge(cls) : \n",
    "        try : \n",
    "            if not cls.answer : # answer에 값이 없다면\n",
    "                print('모든 도를 맞췄습니다. 성공!')\n",
    "                return \n",
    "            user = input('정답 입력 : ')\n",
    "            cls.answer.remove(user) # 삭제 시도 했는데 값이 없으면 ValueError 예외 발생\n",
    "        except : \n",
    "            print('틀렸습니다') # except 처리후 종료가 된다.\n",
    "        else : \n",
    "            print('정답입니다')\n",
    "            cls.challenge()\n",
    "\n",
    "try : \n",
    "    print('우리 나라 9개 도 맞추기')\n",
    "    Quiz.challenge()\n",
    "except Exception as e : \n",
    "    print(e)"
   ]
  },
  {
   "cell_type": "code",
   "execution_count": null,
   "id": "05d2da24-1d69-4b3d-9b40-56d01b04e403",
   "metadata": {},
   "outputs": [],
   "source": []
  },
  {
   "cell_type": "code",
   "execution_count": null,
   "id": "2bd67aae-dc6a-40b5-8fc9-4f13f218ad29",
   "metadata": {},
   "outputs": [],
   "source": []
  }
 ],
 "metadata": {
  "kernelspec": {
   "display_name": "Python 3 (ipykernel)",
   "language": "python",
   "name": "python3"
  },
  "language_info": {
   "codemirror_mode": {
    "name": "ipython",
    "version": 3
   },
   "file_extension": ".py",
   "mimetype": "text/x-python",
   "name": "python",
   "nbconvert_exporter": "python",
   "pygments_lexer": "ipython3",
   "version": "3.12.4"
  }
 },
 "nbformat": 4,
 "nbformat_minor": 5
}
