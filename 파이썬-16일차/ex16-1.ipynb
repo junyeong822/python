{
 "cells": [
  {
   "cell_type": "code",
   "execution_count": 9,
   "id": "a473cf7f-0c42-4f60-b4b7-9678ba0e2aa9",
   "metadata": {},
   "outputs": [
    {
     "name": "stdout",
     "output_type": "stream",
     "text": [
      "True\n",
      "True\n"
     ]
    }
   ],
   "source": [
    "class Person : \n",
    "    def __init__(self, name) : \n",
    "        self.name = name\n",
    "\n",
    "class Student(Person) : \n",
    "    def __init__(self, name, school) : \n",
    "        super().__init__(name)\n",
    "        self.school = school\n",
    "\n",
    "potter = Student('호그와트', '해리포터')\n",
    "print( isinstance(potter, Student)) # 해당하는 클래스로 만들어진 객체니? 라고 검새\n",
    "print( isinstance(potter, Person))"
   ]
  },
  {
   "cell_type": "code",
   "execution_count": 43,
   "id": "d4892af4-eefe-48a2-9941-d44d8e610843",
   "metadata": {},
   "outputs": [
    {
     "name": "stdout",
     "output_type": "stream",
     "text": [
      "현재 주유상태 : 50\n",
      "현재 충전상태 : 30\n"
     ]
    }
   ],
   "source": [
    "class Car : \n",
    "    max_oil = 50\n",
    "\n",
    "    def __init__(self, oil) : \n",
    "        self.oil = oil if Car.max_oil > oil else Car.max_oil\n",
    "\n",
    "    def add_oil(self, oil) : \n",
    "        if oil <= 0 :\n",
    "            return\n",
    "        self.oil += oil\n",
    "        if self.oil > Car.max_oil : \n",
    "            self.oil = Car.max_oil\n",
    "\n",
    "    def car_info(self) : \n",
    "        print(f'현재 주유상태 : {self.oil}')\n",
    "\n",
    "\n",
    "class Hybrid(Car) : \n",
    "    max_battery = 30\n",
    "    \n",
    "    def __init__(self, oil, battery) : \n",
    "        super().__init__(oil)\n",
    "        self.oil = oil if Hybrid.max_battery > oil else Hybrid.max_battery\n",
    "\n",
    "    def charge(self, battery) : \n",
    "        if battery <= 0 :\n",
    "            return\n",
    "        self.battery += battery\n",
    "        if self.battery > Hybrid.max_battery : \n",
    "            self.battery = Hybrid.max_battery\n",
    "\n",
    "    def hybrid_info(self) : \n",
    "        super().car_info()\n",
    "        print(f'현재 충전상태 : {self.battery}')\n",
    "    \n",
    "\n",
    "car = Hybrid(0, 0)\n",
    "car.add_oil(100)\n",
    "car.charge(50)\n",
    "car.hybrid_info()"
   ]
  },
  {
   "cell_type": "code",
   "execution_count": null,
   "id": "1d3cf679-22f8-4bcc-841f-677625c4d3db",
   "metadata": {},
   "outputs": [],
   "source": []
  },
  {
   "cell_type": "code",
   "execution_count": null,
   "id": "c1daa419-78e6-472c-b6db-a6a37cc2ddd9",
   "metadata": {},
   "outputs": [],
   "source": []
  },
  {
   "cell_type": "code",
   "execution_count": null,
   "id": "0bc874dc-8140-4b53-b2e2-a5035911012a",
   "metadata": {},
   "outputs": [],
   "source": []
  }
 ],
 "metadata": {
  "kernelspec": {
   "display_name": "Python 3 (ipykernel)",
   "language": "python",
   "name": "python3"
  },
  "language_info": {
   "codemirror_mode": {
    "name": "ipython",
    "version": 3
   },
   "file_extension": ".py",
   "mimetype": "text/x-python",
   "name": "python",
   "nbconvert_exporter": "python",
   "pygments_lexer": "ipython3",
   "version": "3.12.4"
  }
 },
 "nbformat": 4,
 "nbformat_minor": 5
}
