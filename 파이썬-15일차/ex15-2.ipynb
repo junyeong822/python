{
 "cells": [
  {
   "cell_type": "code",
   "execution_count": 37,
   "id": "0700868a-23ba-45ed-b535-8699cadbc527",
   "metadata": {},
   "outputs": [
    {
     "ename": "TypeError",
     "evalue": "Shop.buyBag() missing 1 required positional argument: 'self'",
     "output_type": "error",
     "traceback": [
      "\u001b[1;31m---------------------------------------------------------------------------\u001b[0m",
      "\u001b[1;31mTypeError\u001b[0m                                 Traceback (most recent call last)",
      "Cell \u001b[1;32mIn[37], line 19\u001b[0m\n\u001b[0;32m     17\u001b[0m b1\u001b[38;5;241m.\u001b[39mbuyBag()\n\u001b[0;32m     18\u001b[0m b2\u001b[38;5;241m.\u001b[39mbuyBag()\n\u001b[1;32m---> 19\u001b[0m Shop\u001b[38;5;241m.\u001b[39mbuyBag()\n\u001b[0;32m     21\u001b[0m \u001b[38;5;28mprint\u001b[39m(b1\u001b[38;5;241m.\u001b[39mbagCount)\n\u001b[0;32m     22\u001b[0m \u001b[38;5;28mprint\u001b[39m(b2\u001b[38;5;241m.\u001b[39mbagCount)\n",
      "\u001b[1;31mTypeError\u001b[0m: Shop.buyBag() missing 1 required positional argument: 'self'"
     ]
    }
   ],
   "source": [
    "class Shop :\n",
    "    bagCount = 0 # 클래스 변수 - 모든 인스턴스가 공통으로 사용하는 변수다\n",
    "    \n",
    "    def __init__ (self, name) : \n",
    "        self.name = name        \n",
    "\n",
    "    def buyBag (self) : \n",
    "        Shop.bagCount += 1\n",
    "\n",
    "    def sellBag (self) : \n",
    "        Shop.bagCount -= 1\n",
    "\n",
    "\n",
    "b1 = Shop('홍길동')\n",
    "b2 = Shop('이몽룡')\n",
    "\n",
    "b1.buyBag()\n",
    "b2.buyBag()\n",
    "\n",
    "print(b1.bagCount)\n",
    "print(b2.bagCount)"
   ]
  },
  {
   "cell_type": "code",
   "execution_count": 71,
   "id": "c2287e9b-50fe-4fd0-af96-d95f3ddf6ac3",
   "metadata": {},
   "outputs": [
    {
     "name": "stdout",
     "output_type": "stream",
     "text": [
      "0\n",
      "0\n",
      "123\n",
      "-----코리아 은행-----\n",
      "--- 통장 정보 조회---\n"
     ]
    }
   ],
   "source": [
    "# 은행 클래스 - 통장 \n",
    "# 기능 - 돈을 받아서 입금 , 출금 할 수 있는 기능. \n",
    "# 계좌번호 저장하는 변수\n",
    "# 잔액 : balance,  저장되는 변수 - 클래스변수로 만들어서 금액을 조정할 수 있도록 하시오.\n",
    "# 입금 : deposit\n",
    "# 출금 : withdraw\n",
    "class Bank : \n",
    "    balance = 0\n",
    "\n",
    "    def __init__(self, account) : \n",
    "        self.account = account\n",
    "\n",
    "    # 클래스 메서드와 cls 매개변수를 이용하여 접근\n",
    "    @classmethod\n",
    "    def deposit (cls, money) : \n",
    "        cls.balance += money\n",
    "\n",
    "    def withdraw (self, money) : # 무조건 self, 클래스 이름 접근 x\n",
    "        if Bank.balance < money : # 클래스 이름으로 접근\n",
    "            print('출금 불가')\n",
    "        else : \n",
    "            Bank.balance -= money\n",
    "\n",
    "    @staticmethod # self x, 클래스이름으로 접근0\n",
    "    def welcome() : \n",
    "        print('-----코리아 은행-----')\n",
    "        print('--- 통장 정보 조회---')\n",
    "\n",
    "p1 = Bank('123')\n",
    "\n",
    "p1.deposit(2000)\n",
    "p1.withdraw(2000)\n",
    "\n",
    "# 클래스 변수\n",
    "print(p1.balance) # 인스턴스 이름으로 접근 가능\n",
    "print(Bank.balance) # 클래스이름으로 접근 가능\n",
    "\n",
    "# 인스턴스 변수\n",
    "print(p1.account) \n",
    "# print(Bank.account) # 인스턴스변수는 클래스 이름으로 접근x\n",
    "\n",
    "Bank.welcome()"
   ]
  },
  {
   "cell_type": "code",
   "execution_count": 5,
   "id": "c51e4a21-27b3-4634-8bf2-535189410ead",
   "metadata": {},
   "outputs": [
    {
     "name": "stdout",
     "output_type": "stream",
     "text": [
      "james is born\n",
      "emily is born\n",
      "emily is dead.\n",
      "인구수 : 1명\n",
      "james is dead.\n",
      "인구수 : 0명\n"
     ]
    }
   ],
   "source": [
    "class Person : \n",
    "\n",
    "    count = 0\n",
    "    \n",
    "    def __init__(self, name) : \n",
    "        self.name = name\n",
    "        Person.count += 1 # self가 이미있기 때문에, cls 받지 못함. 그래서 클래스명.변수명 접근\n",
    "        print(f'{name} is born')\n",
    "\n",
    "    @classmethod\n",
    "    def get_population(cls) : \n",
    "        return cls.count # 클래스변수를 리턴한다\n",
    "\n",
    "    def __del__(self) : \n",
    "        Person.count -= 1\n",
    "        print(f'{self.name} is dead.')\n",
    "\n",
    "man = Person('james')\n",
    "woman = Person('emily')\n",
    "\n",
    "print(f'인구수 : {Person.get_population()}명')\n",
    "\n",
    "del man\n",
    "print(f'인구수 : {Person.get_population()}명')"
   ]
  },
  {
   "cell_type": "code",
   "execution_count": 33,
   "id": "59f1d873-5b0b-4d78-8709-b042d27f0319",
   "metadata": {},
   "outputs": [
    {
     "ename": "ValueError",
     "evalue": "not enough values to unpack (expected 2, got 1)",
     "output_type": "error",
     "traceback": [
      "\u001b[1;31m---------------------------------------------------------------------------\u001b[0m",
      "\u001b[1;31mValueError\u001b[0m                                Traceback (most recent call last)",
      "Cell \u001b[1;32mIn[33], line 11\u001b[0m\n\u001b[0;32m      8\u001b[0m             k, v \u001b[38;5;241m=\u001b[39m \u001b[38;5;28mtuple\u001b[39m(menu\u001b[38;5;241m.\u001b[39mitems())\n\u001b[0;32m      9\u001b[0m             \u001b[38;5;28mprint\u001b[39m(k,v)\n\u001b[1;32m---> 11\u001b[0m Shop\u001b[38;5;241m.\u001b[39msales(\u001b[38;5;124m'\u001b[39m\u001b[38;5;124m떡볶이\u001b[39m\u001b[38;5;124m'\u001b[39m,\u001b[38;5;241m1\u001b[39m)\n",
      "Cell \u001b[1;32mIn[33], line 8\u001b[0m, in \u001b[0;36mShop.sales\u001b[1;34m(cls, order, qty)\u001b[0m\n\u001b[0;32m      5\u001b[0m \u001b[38;5;129m@classmethod\u001b[39m\n\u001b[0;32m      6\u001b[0m \u001b[38;5;28;01mdef\u001b[39;00m \u001b[38;5;21msales\u001b[39m(\u001b[38;5;28mcls\u001b[39m, order, qty) : \n\u001b[0;32m      7\u001b[0m     \u001b[38;5;28;01mfor\u001b[39;00m menu \u001b[38;5;129;01min\u001b[39;00m \u001b[38;5;28mcls\u001b[39m\u001b[38;5;241m.\u001b[39mmenu_list : \n\u001b[1;32m----> 8\u001b[0m         k, v \u001b[38;5;241m=\u001b[39m \u001b[38;5;28mtuple\u001b[39m(menu\u001b[38;5;241m.\u001b[39mitems())\n\u001b[0;32m      9\u001b[0m         \u001b[38;5;28mprint\u001b[39m(k,v)\n",
      "\u001b[1;31mValueError\u001b[0m: not enough values to unpack (expected 2, got 1)"
     ]
    }
   ],
   "source": [
    "class Shop : \n",
    "    total = 0\n",
    "    menu_list = [{'떡볶이':3000},{'순대':3000},{'튀김':500},{'김밥':2000}]\n",
    "\n",
    "    @classmethod\n",
    "    def sales(cls, order, qty) : \n",
    "        for menu in cls.menu_list : \n",
    "            k, v = tuple(menu.items())\n",
    "            print(k,v)\n",
    "            \n",
    "Shop.sales('떡볶이',1)"
   ]
  }
 ],
 "metadata": {
  "kernelspec": {
   "display_name": "Python 3 (ipykernel)",
   "language": "python",
   "name": "python3"
  },
  "language_info": {
   "codemirror_mode": {
    "name": "ipython",
    "version": 3
   },
   "file_extension": ".py",
   "mimetype": "text/x-python",
   "name": "python",
   "nbconvert_exporter": "python",
   "pygments_lexer": "ipython3",
   "version": "3.12.4"
  }
 },
 "nbformat": 4,
 "nbformat_minor": 5
}
