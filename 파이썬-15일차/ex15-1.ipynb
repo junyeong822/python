{
 "cells": [
  {
   "cell_type": "code",
   "execution_count": 38,
   "id": "f1ed2338-bd50-4e82-9c36-8f58dd0a0345",
   "metadata": {},
   "outputs": [
    {
     "name": "stdin",
     "output_type": "stream",
     "text": [
      "과목이름 입력 과학\n",
      "점수 입력 80\n",
      "과목이름 입력 수학\n",
      "점수 입력 90\n",
      "과목이름 입력 영어\n",
      "점수 입력 70\n",
      "과목이름 입력 \n",
      "삭제할 과목이름 입력 수학\n"
     ]
    },
    {
     "name": "stdout",
     "output_type": "stream",
     "text": [
      "수학이(가) 삭제 되었음\n",
      "----학생정보----\n",
      "김유신(3) / 100\n",
      "- 과학 : 80점\n",
      "- 영어 : 70점\n"
     ]
    }
   ],
   "source": [
    "class Subject : \n",
    "    def __init__(self, subjectName, score) : \n",
    "        self.subjectName = subjectName\n",
    "        self.score = score\n",
    "        \n",
    "    def printInfo(self) : \n",
    "        print(f'- {self.subjectName} : {self.score}점')\n",
    "\n",
    "class Student : \n",
    "    def __init__(self, studentId, studentName, grade) : \n",
    "        self.studentId = studentId\n",
    "        self.studentName = studentName\n",
    "        self.grade = grade\n",
    "        self.subjectList = [] # 과목+점수 리스트\n",
    "\n",
    "    def printInfo(self) :\n",
    "        print('----학생정보----')\n",
    "        print(f'{self.studentName}({self.grade}) / {self.studentId}')\n",
    "         \n",
    "        for subject in self.subjectList : \n",
    "            subject.printInfo()\n",
    "    \n",
    "    def addSubject(self) : \n",
    "        # 과목이름이 엔터가 들어오기 까지 무한 반복\n",
    "\n",
    "        while True : \n",
    "            subjectName = input('과목이름 입력')# 과목이름 입력\n",
    "            if not subjectName : \n",
    "                return  # 함수 자체 종료\n",
    "\n",
    "            while True : \n",
    "                score = input('점수 입력')# 점수 입력 - 엔터 입력했을 때 int 때문에 오류남\n",
    "                if int(score) < 0 or int(score) > 100 :\n",
    "                    print('ㄴ 0~100점 사이로 입력')\n",
    "                    continue\n",
    "                break\n",
    "            \n",
    "            subject = Subject(subjectName, int(score)) # subject 객체를 생성해서\n",
    "            self.subjectList.append(subject) # 생성한 객체를 subject_list에 추가한다\n",
    "\n",
    "    def updateSubject(self) :\n",
    "        hasData = False\n",
    "        \n",
    "        subjectName = input('수정할 과목이름 입력') # 과목이름 입력\n",
    "        # 해당과목이 있는지 리스트에서 검색 - 일치하는게 있는지 여부를 변수에 저장 - 같은것 찾으면 반복중단\n",
    "        for i, subject in enumerate(self.subjectList) : #인덱스번호 분리\n",
    "            if subjectName == subject.subjectName : \n",
    "                hasData = True\n",
    "                score = input('수정할 점수 입력 : ')\n",
    "                self.subjectList[i].score = score\n",
    "                print('수정완료')\n",
    "                break\n",
    "\n",
    "        if not hasData : \n",
    "            print('해당 과목 없음')\n",
    "\n",
    "# 점수 삭제 메서드 - deleteSubject()\n",
    "    def deleteSubject(self) :\n",
    "        hasData = False \n",
    "        subjectName = input('삭제할 과목이름 입력') # 과목이름 입력\n",
    "       \n",
    "        for i, subject in enumerate(self.subjectList) : #인덱스번호 분리\n",
    "            if subjectName == subject.subjectName : \n",
    "                hasData = True\n",
    "                deleteData = self.subjectList.pop(i)\n",
    "                print(f'{deleteData.subjectName}이(가) 삭제 되었음')\n",
    "                break\n",
    "\n",
    "        if not hasData :\n",
    "            print('해당 과목 없음')\n",
    "\n",
    "kim = Student(100, '김유신', 3)\n",
    "kim.addSubject()\n",
    "kim.deleteSubject()\n",
    "kim.printInfo()"
   ]
  }
 ],
 "metadata": {
  "kernelspec": {
   "display_name": "Python 3 (ipykernel)",
   "language": "python",
   "name": "python3"
  },
  "language_info": {
   "codemirror_mode": {
    "name": "ipython",
    "version": 3
   },
   "file_extension": ".py",
   "mimetype": "text/x-python",
   "name": "python",
   "nbconvert_exporter": "python",
   "pygments_lexer": "ipython3",
   "version": "3.12.4"
  }
 },
 "nbformat": 4,
 "nbformat_minor": 5
}
