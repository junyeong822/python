{
 "cells": [
  {
   "cell_type": "code",
   "execution_count": 41,
   "id": "d974974a-a842-465c-986b-694d76bf5e9f",
   "metadata": {},
   "outputs": [
    {
     "name": "stdout",
     "output_type": "stream",
     "text": [
      "1\n",
      "1\n",
      "8\n",
      "9\n",
      "0.1772402499934863\n",
      "25.288888779493202\n"
     ]
    }
   ],
   "source": [
    "import random\n",
    "\n",
    "print( random.randint(1, 10) ) # 1~10 사이의 난수\n",
    "\n",
    "# randrange(시작, 종료-1, 증감값)\n",
    "print( random.randrange(10) ) # 0~9 사이의 난수\n",
    "print( random.randrange(1, 11) ) # 1~10 사이의 난수\n",
    "print( random.randrange(1, 11, 2) ) # 1~10 사이의 홀수 중에서 난수\n"
   ]
  },
  {
   "cell_type": "code",
   "execution_count": 135,
   "id": "cc52c06e-443b-42ec-898a-9da3d1b66e64",
   "metadata": {},
   "outputs": [
    {
     "name": "stdout",
     "output_type": "stream",
     "text": [
      "0.011056191957871553\n",
      "20% 확률로 당첨\n"
     ]
    }
   ],
   "source": [
    "# random() - 0~1미만 실수, 백분율 환산, 확률\n",
    "n =  random.random()\n",
    "print(n)\n",
    "if n < 0.2 : # 50% 넘니?\n",
    "    print(\"20% 확률로 당첨\")\n",
    "else : \n",
    "    print(\"꽝\")"
   ]
  },
  {
   "cell_type": "code",
   "execution_count": 137,
   "id": "556d554d-a0a2-4a93-be7a-0f9de8db0c3a",
   "metadata": {},
   "outputs": [
    {
     "name": "stdout",
     "output_type": "stream",
     "text": [
      "3\n"
     ]
    },
    {
     "name": "stdin",
     "output_type": "stream",
     "text": [
      "1~6사이 값 :  2\n",
      "1~6사이 값 :  1\n",
      "1~6사이 값 :  3\n"
     ]
    },
    {
     "name": "stdout",
     "output_type": "stream",
     "text": [
      "정답\n"
     ]
    }
   ],
   "source": [
    "# 주사위 값  = 1~6사의 값 랜덤으로 발생\n",
    "# 숫자를 입력받아 주사위 값을 맞추는 게임을 작성하시오.\n",
    "# 맞출때까지 반복\n",
    "\n",
    "com = random.randint(1, 6)\n",
    "print(com)\n",
    "while True : \n",
    "    user = int(input('1~6사이 값 : '))\n",
    "    if com == user : \n",
    "        print('정답')\n",
    "        break\n"
   ]
  },
  {
   "cell_type": "code",
   "execution_count": 157,
   "id": "cb1ffa25-1ac5-4130-8fde-cb2b3b677494",
   "metadata": {},
   "outputs": [
    {
     "data": {
      "text/plain": [
       "'가을'"
      ]
     },
     "execution_count": 157,
     "metadata": {},
     "output_type": "execute_result"
    }
   ],
   "source": [
    "# 시퀀스 자료형 중에 임의로 1개 선택해서 반환\n",
    "li = ['봄','여름','가을','겨울']\n",
    "random.choice(li)"
   ]
  },
  {
   "cell_type": "code",
   "execution_count": 165,
   "id": "23905530-53d5-47c0-a090-806f72229b59",
   "metadata": {},
   "outputs": [
    {
     "data": {
      "text/plain": [
       "['봄', '여름']"
      ]
     },
     "execution_count": 165,
     "metadata": {},
     "output_type": "execute_result"
    }
   ],
   "source": [
    "# sample - 시퀀수 자료형 중에서 원하는 갯수만큼 반환\n",
    "li = ['봄','여름','가을','겨울']\n",
    "random.sample(li, 2)"
   ]
  },
  {
   "cell_type": "code",
   "execution_count": 211,
   "id": "32a6aac3-597d-428d-a67d-24c45ab14289",
   "metadata": {},
   "outputs": [
    {
     "name": "stdout",
     "output_type": "stream",
     "text": [
      "[5, 8, 12, 23, 28, 30]\n"
     ]
    }
   ],
   "source": [
    "# 로또번호 생성 - 중복없이 생성된다\n",
    "lotto = random.sample( range(1, 46), 6)\n",
    "lotto = sorted(lotto)\n",
    "print(lotto)"
   ]
  },
  {
   "cell_type": "code",
   "execution_count": 221,
   "id": "010d90e4-dfc9-4aef-9d9b-596ceb14ac87",
   "metadata": {},
   "outputs": [
    {
     "name": "stdout",
     "output_type": "stream",
     "text": [
      "['나', '마', '라', '다', '가', '바', '사']\n"
     ]
    }
   ],
   "source": [
    "# 시퀀스 자료형 0 \n",
    "# 값변경 불가능한 전달x - tuple, 문자열 - shuffle동작x\n",
    "li = ['가','나','다','라','마','바','사']\n",
    "random.shuffle(li)\n",
    "print(li)"
   ]
  },
  {
   "cell_type": "code",
   "execution_count": null,
   "id": "e7bc855b-cc62-40ca-a1d6-10232a75787e",
   "metadata": {},
   "outputs": [],
   "source": []
  },
  {
   "cell_type": "code",
   "execution_count": null,
   "id": "97fa2202-2cc3-4827-8eb7-ef988abc897d",
   "metadata": {},
   "outputs": [],
   "source": []
  },
  {
   "cell_type": "code",
   "execution_count": null,
   "id": "b015524f-abb0-4389-9dab-fea164c48bd0",
   "metadata": {},
   "outputs": [],
   "source": []
  }
 ],
 "metadata": {
  "kernelspec": {
   "display_name": "Python 3 (ipykernel)",
   "language": "python",
   "name": "python3"
  },
  "language_info": {
   "codemirror_mode": {
    "name": "ipython",
    "version": 3
   },
   "file_extension": ".py",
   "mimetype": "text/x-python",
   "name": "python",
   "nbconvert_exporter": "python",
   "pygments_lexer": "ipython3",
   "version": "3.12.4"
  }
 },
 "nbformat": 4,
 "nbformat_minor": 5
}
