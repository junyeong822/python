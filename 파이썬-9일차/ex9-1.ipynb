{
 "cells": [
  {
   "cell_type": "code",
   "execution_count": 9,
   "id": "56b128fd-dcee-4fdc-9d41-c04aa539ef96",
   "metadata": {},
   "outputs": [
    {
     "name": "stdout",
     "output_type": "stream",
     "text": [
      "(98.17, 117.81)\n"
     ]
    }
   ],
   "source": [
    "import math\n",
    "\n",
    "# 지름, 높이를 입력받아 원기둥의 부피와 겉넓이를 구하는 함수를 만드시오\n",
    "# 반지름 = radius, 지름 = diameter\n",
    "# 원기둥 부피 : 파이 * 지름 2제곱 * 높이\n",
    "# 2*파이*반지름*높이 + 2*파이*지름2제곱\n",
    "\n",
    "def circle_volume_and_area(diameter, height) : \n",
    "    r = diameter / 2\n",
    "    volume = math.pi * (r**2) * height\n",
    "    area = (2 * math.pi * r * height) + (2*math.pi* (r**2))\n",
    "    return round(volume, 2), round(area, 2)\n",
    "\n",
    "\n",
    "result = circle_volume_and_area(5, 5)  \n",
    "print(result)"
   ]
  },
  {
   "cell_type": "code",
   "execution_count": null,
   "id": "c1596294-04db-4f03-a37d-a4190ebd101f",
   "metadata": {},
   "outputs": [],
   "source": [
    "# ceil() 올림\n",
    "# floor() 내림\n",
    "# trunc() 정수로 절삭 - 소수점 버림\n",
    "# round() 반올림"
   ]
  },
  {
   "cell_type": "code",
   "execution_count": 15,
   "id": "3793d8fa-7f81-4570-89bf-558adeb9df9d",
   "metadata": {},
   "outputs": [
    {
     "data": {
      "text/plain": [
       "6.0"
      ]
     },
     "execution_count": 15,
     "metadata": {},
     "output_type": "execute_result"
    }
   ],
   "source": [
    "math.sqrt(25)\n",
    "math.sqrt(36)"
   ]
  },
  {
   "cell_type": "code",
   "execution_count": 21,
   "id": "bf854271-23f4-4070-98c7-93e979ba4193",
   "metadata": {},
   "outputs": [
    {
     "name": "stdout",
     "output_type": "stream",
     "text": [
      "8.0\n",
      "8\n"
     ]
    }
   ],
   "source": [
    "print(math.pow(2,3)) # 실수값\n",
    "print(2**3) "
   ]
  },
  {
   "cell_type": "code",
   "execution_count": null,
   "id": "9ec855cc-ab59-4c07-9d7d-572a2785213c",
   "metadata": {},
   "outputs": [],
   "source": []
  }
 ],
 "metadata": {
  "kernelspec": {
   "display_name": "Python 3 (ipykernel)",
   "language": "python",
   "name": "python3"
  },
  "language_info": {
   "codemirror_mode": {
    "name": "ipython",
    "version": 3
   },
   "file_extension": ".py",
   "mimetype": "text/x-python",
   "name": "python",
   "nbconvert_exporter": "python",
   "pygments_lexer": "ipython3",
   "version": "3.12.4"
  }
 },
 "nbformat": 4,
 "nbformat_minor": 5
}
