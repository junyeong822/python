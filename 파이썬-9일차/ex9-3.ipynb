{
 "cells": [
  {
   "cell_type": "code",
   "execution_count": 20,
   "id": "833187ec-68c9-4f59-9d58-ec8af3854643",
   "metadata": {},
   "outputs": [
    {
     "name": "stdin",
     "output_type": "stream",
     "text": [
      "가위, 바위, 보 중 하나를 선택 가위\n"
     ]
    },
    {
     "name": "stdout",
     "output_type": "stream",
     "text": [
      "이겼습니다\n"
     ]
    }
   ],
   "source": [
    "# 문제 1: 가위, 바위, 보 게임\n",
    "# 컴 : 가위, 바위, 보 리스트에 저장하고 무작위로 1개 선택\n",
    "# 유저 : 가위, 바위, 보 중에서 1개 선택\n",
    "# 승부를 출력 함수 만드시오\n",
    "# 함수이름 : rock_paper_scissors()\n",
    "\n",
    "\n",
    "import random\n",
    "\n",
    "def rock_paper_scissors(user_pick) : \n",
    "    choices = ['가위', '바위','보']\n",
    "    com_pick = random.choice(choices)\n",
    "    \n",
    "    if user_pick not in choices : \n",
    "        return '잘 못 입력하였습니다.'\n",
    "\n",
    "    if com_pick == user_pick :\n",
    "        return '비겼습니다'\n",
    "    elif (user_pick == '가위' and  com_pick =='보') or(user_pick == '바위' and  com_pick =='가위') or (user_pick == '보' and  com_pick =='바위') :\n",
    "        return '이겼습니다'\n",
    "    else : \n",
    "        return '졌습니다'\n",
    "\n",
    "\n",
    "user_pick = input('가위, 바위, 보 중 하나를 선택')\n",
    "result = rock_paper_scissors(user_pick )\n",
    "print(result)"
   ]
  },
  {
   "cell_type": "code",
   "execution_count": null,
   "id": "bef6bd1b-8167-4001-ad9b-30a384071385",
   "metadata": {},
   "outputs": [],
   "source": [
    "# 문제2 : 야구게임\n",
    "# 랜덤 숫자 3개 \n",
    "'''\n",
    "유저에게 3개 숫자를 입력 받아서\n",
    "자리가 같으면 1strike\n",
    "자리는 같지 않지만 같은 숫자가 있으면 1ball\n",
    "\n",
    "ex) 369   입력 : 239 -- 1strike 1ball\n",
    "3strike 종료\n",
    "'''"
   ]
  },
  {
   "cell_type": "code",
   "execution_count": 55,
   "id": "73e27c71-23e2-48cb-93ad-b9780fd865fd",
   "metadata": {},
   "outputs": [
    {
     "name": "stdout",
     "output_type": "stream",
     "text": [
      "[1, 9, 2]\n"
     ]
    },
    {
     "name": "stdin",
     "output_type": "stream",
     "text": [
      "5개 기회 남음 - 3자리 숫자 입력 :  12\n"
     ]
    },
    {
     "name": "stdout",
     "output_type": "stream",
     "text": [
      "3자리로 입력하세요\n"
     ]
    },
    {
     "name": "stdin",
     "output_type": "stream",
     "text": [
      "5개 기회 남음 - 3자리 숫자 입력 :  12234\n"
     ]
    },
    {
     "name": "stdout",
     "output_type": "stream",
     "text": [
      "3자리로 입력하세요\n"
     ]
    },
    {
     "name": "stdin",
     "output_type": "stream",
     "text": [
      "5개 기회 남음 - 3자리 숫자 입력 :  123\n"
     ]
    },
    {
     "name": "stdout",
     "output_type": "stream",
     "text": [
      "1 1\n"
     ]
    },
    {
     "name": "stdin",
     "output_type": "stream",
     "text": [
      "4개 기회 남음 - 3자리 숫자 입력 :  192\n"
     ]
    },
    {
     "name": "stdout",
     "output_type": "stream",
     "text": [
      "3 0\n",
      "종료\n"
     ]
    }
   ],
   "source": [
    "com = random.sample(range(1,10), 3)\n",
    "print(com) # 랜덤 숫자가 리스트 - 자료형 : 숫자\n",
    "\n",
    "# 기회를 5번으로 제한\n",
    "def baseball_game () : \n",
    "    cnt = 5\n",
    "    while True:\n",
    "        strike = 0\n",
    "        ball = 0\n",
    "\n",
    "        # 자릿수를 잘 못 입력하면 다시 입력하도록\n",
    "        while True : \n",
    "            user = input(f'{cnt}개 기회 남음 - 3자리 숫자 입력 : ') # 자료형 - 문자\n",
    "            if len(user) == 3 : \n",
    "                break\n",
    "            print('3자리로 입력하세요')\n",
    "        \n",
    "        cnt -= 1\n",
    "        for i, el in enumerate(com) :\n",
    "            if str(com[i]) == user[i] :\n",
    "                strike += 1\n",
    "            elif str(com[i]) in user : \n",
    "                ball += 1\n",
    "    \n",
    "        print(strike, ball)\n",
    "        if strike == 3 or cnt == 0 : \n",
    "            break\n",
    "        \n",
    "            \n",
    "baseball_game()\n",
    "print(\"종료\")"
   ]
  },
  {
   "cell_type": "code",
   "execution_count": 99,
   "id": "2f6dc19b-ed34-4bfe-841d-1f34b53fe3eb",
   "metadata": {},
   "outputs": [
    {
     "name": "stdout",
     "output_type": "stream",
     "text": [
      "[7, 10, 14, 19, 22, 44]\n"
     ]
    }
   ],
   "source": [
    "pot = list(range(1,46))\n",
    "jack_pot = []\n",
    "\n",
    "for i in range(6) :\n",
    "    random.shuffle(pot)\n",
    "    num = pot.pop()\n",
    "    jack_pot.append( num )\n",
    "    \n",
    "jack_pot = sorted(jack_pot)\n",
    "print(jack_pot)"
   ]
  },
  {
   "cell_type": "code",
   "execution_count": null,
   "id": "85b501ab-1410-49e6-b818-cae7e4f3cd0b",
   "metadata": {},
   "outputs": [],
   "source": []
  },
  {
   "cell_type": "code",
   "execution_count": null,
   "id": "76ed886b-dd15-4999-8f08-abaf0336ae47",
   "metadata": {},
   "outputs": [],
   "source": []
  },
  {
   "cell_type": "code",
   "execution_count": null,
   "id": "8495d3b4-b007-4ed1-8cdc-6c61e7e1aa2a",
   "metadata": {},
   "outputs": [],
   "source": []
  }
 ],
 "metadata": {
  "kernelspec": {
   "display_name": "Python 3 (ipykernel)",
   "language": "python",
   "name": "python3"
  },
  "language_info": {
   "codemirror_mode": {
    "name": "ipython",
    "version": 3
   },
   "file_extension": ".py",
   "mimetype": "text/x-python",
   "name": "python",
   "nbconvert_exporter": "python",
   "pygments_lexer": "ipython3",
   "version": "3.12.4"
  }
 },
 "nbformat": 4,
 "nbformat_minor": 5
}
