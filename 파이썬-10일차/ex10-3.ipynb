{
 "cells": [
  {
   "cell_type": "code",
   "execution_count": 7,
   "id": "d3d69509-da3b-473f-9089-bcfb5e95f401",
   "metadata": {},
   "outputs": [
    {
     "name": "stdout",
     "output_type": "stream",
     "text": [
      "복사완료\n"
     ]
    }
   ],
   "source": [
    "import time\n",
    "file_date = time.strftime('-%y-%m-%d')\n",
    "\n",
    "buffer_size = 1024 # 1024bit = 1byte\n",
    "# 원본 파일명에 오늘 날짜를 추가한 파일명으로 복사하시오\n",
    "\n",
    "with open('doraemon.webp', 'rb') as source : \n",
    "    with open('doraemon'+ file_date + '.webp', 'wb') as copy : \n",
    "\n",
    "        while True  :\n",
    "            buffer = source.read(buffer_size) # 1byte씩 읽어오겠다는 의미\n",
    "            if not buffer : \n",
    "                break\n",
    "\n",
    "            copy.write(buffer)\n",
    "print('복사완료')"
   ]
  },
  {
   "cell_type": "code",
   "execution_count": 5,
   "id": "61afcf46-3c1c-4a30-bb7c-048fa5f8cf60",
   "metadata": {},
   "outputs": [
    {
     "name": "stdout",
     "output_type": "stream",
     "text": [
      "24-07-15\n"
     ]
    }
   ],
   "source": []
  },
  {
   "cell_type": "code",
   "execution_count": 17,
   "id": "b49ad667-0acf-40da-aca2-843d4183da2e",
   "metadata": {},
   "outputs": [
    {
     "name": "stdout",
     "output_type": "stream",
     "text": [
      "김나라,목포시,010-111-1111\n",
      "이나라,서울시,010-111-1111\n",
      "장나라,광주시,010-111-1111\n",
      "최나라,부산시,010-111-1111\n",
      "총 4개 데이터\n"
     ]
    }
   ],
   "source": [
    "with open('연락처.csv', 'rt') as file : \n",
    "    line = file.readline()\n",
    "    cnt = 0\n",
    "    while True : \n",
    "        line = file.readline()\n",
    "        \n",
    "        if not line : \n",
    "            break\n",
    "        cnt +=1\n",
    "        print(line, end ='')\n",
    "\n",
    "print(f'총 {cnt}개 데이터')"
   ]
  },
  {
   "cell_type": "code",
   "execution_count": null,
   "id": "77bcd986-021c-4aaf-b1e0-4270e1a1bb1b",
   "metadata": {},
   "outputs": [],
   "source": []
  },
  {
   "cell_type": "code",
   "execution_count": null,
   "id": "b43a6ab5-b7d4-4986-92fc-5d2999f87e84",
   "metadata": {},
   "outputs": [],
   "source": []
  }
 ],
 "metadata": {
  "kernelspec": {
   "display_name": "Python 3 (ipykernel)",
   "language": "python",
   "name": "python3"
  },
  "language_info": {
   "codemirror_mode": {
    "name": "ipython",
    "version": 3
   },
   "file_extension": ".py",
   "mimetype": "text/x-python",
   "name": "python",
   "nbconvert_exporter": "python",
   "pygments_lexer": "ipython3",
   "version": "3.12.4"
  }
 },
 "nbformat": 4,
 "nbformat_minor": 5
}
