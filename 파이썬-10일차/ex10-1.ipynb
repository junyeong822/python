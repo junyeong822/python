{
 "cells": [
  {
   "cell_type": "code",
   "execution_count": 35,
   "id": "be65fadd-c454-409b-a73f-9e06782045ba",
   "metadata": {},
   "outputs": [
    {
     "name": "stdout",
     "output_type": "stream",
     "text": [
      "1721002125.0189734\n",
      "Mon Jul 15 09:08:45 2024\n",
      "24\n",
      "2024\n",
      "07\n",
      "15\n",
      "24-07-15\n",
      "<class 'str'>\n"
     ]
    }
   ],
   "source": [
    "import time\n",
    "\n",
    "print(time.time())\n",
    "print( time.ctime() )\n",
    "print( time.strftime('%y') ) # 24\n",
    "print( time.strftime('%Y') ) #2024\n",
    "\n",
    "# time.sleep(2) # 2초간 멈춤\n",
    "\n",
    "print( time.strftime('%m') ) # 07    - 소문자m : 월 / 대문자 M : 분\n",
    "print( time.strftime('%d') ) # 15\n",
    "print( time.strftime('%y-%m-%d') ) # 6\n",
    "print( type( time.strftime('%y/%m/%d') )) # 6"
   ]
  },
  {
   "cell_type": "code",
   "execution_count": 39,
   "id": "e9208171-922f-4c46-b23a-4c562e7631cf",
   "metadata": {},
   "outputs": [
    {
     "name": "stdout",
     "output_type": "stream",
     "text": [
      "1721002265.1950388\n",
      "<class 'str'>\n"
     ]
    }
   ],
   "source": [
    "from time import *\n",
    "\n",
    "print( time())\n",
    "print( type( strftime('%y/%m/%d') )) # 6"
   ]
  },
  {
   "cell_type": "code",
   "execution_count": null,
   "id": "d3d5c73e-bf68-41a5-b2b9-01954adf4b91",
   "metadata": {},
   "outputs": [],
   "source": [
    "# import : import 모듈명\n",
    "#호출 : 모듈명.메서드명()\n",
    "\n",
    "# import : from 모듈명 import *\n",
    "#호출 : 메서드명()  -- 모듈명 생략가능"
   ]
  },
  {
   "cell_type": "code",
   "execution_count": 71,
   "id": "e4e467ae-d6cd-4aa7-95c2-46a593ae114f",
   "metadata": {},
   "outputs": [
    {
     "data": {
      "text/plain": [
       "1.242742"
      ]
     },
     "execution_count": 71,
     "metadata": {},
     "output_type": "execute_result"
    }
   ],
   "source": [
    "import converter\n",
    "converter.kilometer_to_miles(2) "
   ]
  },
  {
   "cell_type": "code",
   "execution_count": 69,
   "id": "ce3cd7e8-9145-4901-ab3a-6e36d5b4f8c8",
   "metadata": {},
   "outputs": [
    {
     "data": {
      "text/plain": [
       "1.242742"
      ]
     },
     "execution_count": 69,
     "metadata": {},
     "output_type": "execute_result"
    }
   ],
   "source": [
    "from converter import *\n",
    "kilometer_to_miles(2) "
   ]
  },
  {
   "cell_type": "code",
   "execution_count": 101,
   "id": "0dae616e-9c08-4e41-9cc0-4dc50a035a42",
   "metadata": {},
   "outputs": [
    {
     "name": "stdout",
     "output_type": "stream",
     "text": [
      "2024-07-15 09:22:06.489668\n",
      "2024\n",
      "7\n",
      "15\n",
      "9\n",
      "22\n",
      "6\n"
     ]
    }
   ],
   "source": [
    "import datetime\n",
    "\n",
    "# 모듈명.클래스.메서드()\n",
    "\n",
    "today = datetime.datetime.now()\n",
    "print(today)\n",
    "\n",
    "# 날짜형식 데이터에서 - 원하는 부분 추출\n",
    "print( today.year )\n",
    "print( today.month )\n",
    "print( today.day )\n",
    "print( today.hour )\n",
    "print( today.minute )\n",
    "print( today.second )"
   ]
  },
  {
   "cell_type": "code",
   "execution_count": null,
   "id": "6e7ac5a2-b6d2-47f8-ac89-6083888a6f73",
   "metadata": {},
   "outputs": [],
   "source": []
  },
  {
   "cell_type": "code",
   "execution_count": 91,
   "id": "e737c64d-5f78-41fe-b6b2-4153fe7ded0e",
   "metadata": {},
   "outputs": [
    {
     "name": "stdout",
     "output_type": "stream",
     "text": [
      "2014-02-24\n"
     ]
    }
   ],
   "source": [
    "# 숫자를 주면 날짜로 변환\n",
    "birthday = date(2014, 2, 24)\n",
    "print(birthday)"
   ]
  },
  {
   "cell_type": "code",
   "execution_count": 93,
   "id": "633b8418-332a-4ba6-9c8b-46ba2566c405",
   "metadata": {},
   "outputs": [
    {
     "name": "stdout",
     "output_type": "stream",
     "text": [
      "09:22:00\n"
     ]
    }
   ],
   "source": [
    "# 숫자를 주면 시간으로 변환)\n",
    "wake = time(9, 22, 0)\n",
    "print(wake)"
   ]
  },
  {
   "cell_type": "code",
   "execution_count": 117,
   "id": "6e27ab52-a43f-4b2f-8177-e46c7ebf2652",
   "metadata": {},
   "outputs": [
    {
     "name": "stdout",
     "output_type": "stream",
     "text": [
      "2024-07-15 09:27:15.298849\n"
     ]
    },
    {
     "ename": "ValueError",
     "evalue": "month must be in 1..12",
     "output_type": "error",
     "traceback": [
      "\u001b[1;31m---------------------------------------------------------------------------\u001b[0m",
      "\u001b[1;31mValueError\u001b[0m                                Traceback (most recent call last)",
      "Cell \u001b[1;32mIn[117], line 9\u001b[0m\n\u001b[0;32m      6\u001b[0m month \u001b[38;5;241m=\u001b[39m today\u001b[38;5;241m.\u001b[39mmonth \u001b[38;5;241m+\u001b[39m \u001b[38;5;241m10\u001b[39m \u001b[38;5;66;03m# n개월 후 \u001b[39;00m\n\u001b[0;32m      7\u001b[0m day \u001b[38;5;241m=\u001b[39m today\u001b[38;5;241m.\u001b[39mday \u001b[38;5;241m+\u001b[39m \u001b[38;5;241m10\u001b[39m\n\u001b[1;32m----> 9\u001b[0m after \u001b[38;5;241m=\u001b[39m datetime\u001b[38;5;241m.\u001b[39mdate(year, month, day)\n\u001b[0;32m     10\u001b[0m \u001b[38;5;28mprint\u001b[39m(after)\n",
      "\u001b[1;31mValueError\u001b[0m: month must be in 1..12"
     ]
    }
   ],
   "source": [
    "# 현재 날짜에서 10일후 날짜를 구하여 출력\n",
    "# datetime 모듈, now(), date() 메서드 이용하시오.\n",
    "today = datetime.datetime.now()\n",
    "print(today)\n",
    "year = today.year\n",
    "month = today.month# n개월 후 계산할대 오류 날수 있음\n",
    "day = today.day + 10\n",
    "\n",
    "after = datetime.date(year, month, day)\n",
    "print(after)"
   ]
  },
  {
   "cell_type": "code",
   "execution_count": 129,
   "id": "9cc1586d-bf6e-4768-ab47-48a787724f55",
   "metadata": {},
   "outputs": [
    {
     "name": "stdout",
     "output_type": "stream",
     "text": [
      "2024-07-14 09:29:44.060409\n",
      "2024-07-16 09:29:44.060409\n",
      "2024-08-12 09:29:44.060409\n"
     ]
    }
   ],
   "source": [
    "today = datetime.datetime.now()\n",
    "yesterday = today - datetime.timedelta(days = 1)\n",
    "tommorow =  today + datetime.timedelta(days = 1)\n",
    "print(yesterday)\n",
    "print(tommorow)\n",
    "\n",
    "after4weeks = today + datetime.timedelta(weeks = 4)\n",
    "print(after4weeks)"
   ]
  },
  {
   "cell_type": "code",
   "execution_count": 135,
   "id": "5651307d-4119-4e38-a70f-cf3f3658a9ca",
   "metadata": {},
   "outputs": [
    {
     "data": {
      "text/plain": [
       "86400.0"
      ]
     },
     "execution_count": 135,
     "metadata": {},
     "output_type": "execute_result"
    }
   ],
   "source": [
    "date1 = datetime.date(2024, 8, 25)\n",
    "date2 = datetime.date(2024, 8, 26)\n",
    "\n",
    "date2 - date1 # 몇일 차이인지 계산해서 timedelta로 출력\n",
    "\n",
    "(date2 - date1).total_seconds() # 몇초차이인지?"
   ]
  },
  {
   "cell_type": "code",
   "execution_count": 5,
   "id": "bd89f783-0999-4b5a-bf0c-379d4523464d",
   "metadata": {},
   "outputs": [
    {
     "name": "stdout",
     "output_type": "stream",
     "text": [
      "33\n"
     ]
    },
    {
     "name": "stdin",
     "output_type": "stream",
     "text": [
      "1번째 기회 : 1~100사이의 값 입력 :  40\n"
     ]
    },
    {
     "name": "stdout",
     "output_type": "stream",
     "text": [
      "down!\n"
     ]
    },
    {
     "name": "stdin",
     "output_type": "stream",
     "text": [
      "2번째 기회 : 1~100사이의 값 입력 :  33\n"
     ]
    },
    {
     "name": "stdout",
     "output_type": "stream",
     "text": [
      "2번째 만에 정답!\n",
      "2.590849초 소요\n"
     ]
    }
   ],
   "source": [
    "import random\n",
    "from datetime import *\n",
    "\n",
    "com = random.randint(1, 100)\n",
    "cnt = 0\n",
    "print(com)\n",
    "\n",
    "start = datetime.now()\n",
    "while True : \n",
    "    cnt += 1\n",
    "    user = int(input(f'{cnt}번째 기회 : 1~100사이의 값 입력 : '))\n",
    "    \n",
    "    if com == user :\n",
    "        break\n",
    "    elif com > user : \n",
    "        print('up!')\n",
    "    elif com < user :\n",
    "        print('down!')\n",
    "\n",
    "end = datetime.now()\n",
    "elapse = (end-start).total_seconds()\n",
    "print(f'{cnt}번째 만에 정답!')\n",
    "print(f'{elapse}초 소요')"
   ]
  },
  {
   "cell_type": "code",
   "execution_count": null,
   "id": "6009011a-4ca7-4592-a802-6be8e76afa92",
   "metadata": {},
   "outputs": [],
   "source": []
  },
  {
   "cell_type": "code",
   "execution_count": null,
   "id": "1c7f272e-e0af-420f-96e2-89c5ea16865b",
   "metadata": {},
   "outputs": [],
   "source": []
  }
 ],
 "metadata": {
  "kernelspec": {
   "display_name": "Python 3 (ipykernel)",
   "language": "python",
   "name": "python3"
  },
  "language_info": {
   "codemirror_mode": {
    "name": "ipython",
    "version": 3
   },
   "file_extension": ".py",
   "mimetype": "text/x-python",
   "name": "python",
   "nbconvert_exporter": "python",
   "pygments_lexer": "ipython3",
   "version": "3.12.4"
  }
 },
 "nbformat": 4,
 "nbformat_minor": 5
}
