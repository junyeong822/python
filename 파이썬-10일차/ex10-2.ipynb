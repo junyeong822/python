{
 "cells": [
  {
   "cell_type": "code",
   "execution_count": 7,
   "id": "0e847de8-945c-49f5-9bb1-1a6d08de6e52",
   "metadata": {},
   "outputs": [
    {
     "name": "stdout",
     "output_type": "stream",
     "text": [
      "장미\n",
      "백합\n",
      "해바라기\n",
      "다알리아\n",
      "물망초\n",
      "난초\n",
      "국화\n",
      "매화\n",
      "카네이션\n",
      "거베라\n",
      "안개꽃\n",
      "봉숭아"
     ]
    }
   ],
   "source": [
    "# 파일의 종류\n",
    "# 일반적인 문서 - 텍스트 파일 : t \n",
    "# 음악, 영상, 그림 - 바이너리 파일 : b\n",
    "\n",
    "# encoding='UTF-8' : 유니코드로 인코딩 해주세요,  유니코드 세계 각국의 모든 언어 처리 가능\n",
    "# r : 읽기모드 (파일로부터 읽어들이겠다)\n",
    "# t : 텍스트 파일  (만약 음악, 그림, 동영상이었다면 b 라고 써준다)\n"
   ]
  },
  {
   "cell_type": "code",
   "execution_count": null,
   "id": "5fdf19d9-8b79-4a30-8904-9ac32567f314",
   "metadata": {},
   "outputs": [],
   "source": [
    "# 파일 입력 : 파일 읽기\n",
    "file = open('flower.txt', 'rt', encoding='UTF-8')  # r : 열기모드 / flower.txt파일 지정\n",
    "\n",
    "str = file.read()  # 전체파일 읽어들여서 str에 저장\n",
    "print(str, end='')\n",
    "\n",
    "file.close() # 열어준 파일은 닫기를 한다."
   ]
  },
  {
   "cell_type": "code",
   "execution_count": 13,
   "id": "a07c30b5-1ac7-4ec9-aa5b-084ccf1ff632",
   "metadata": {},
   "outputs": [],
   "source": [
    "# 파일 출력 : 파일 쓰기(저장)\n",
    "file = open('animal.txt', 'wt')\n",
    "\n",
    "file.write('호랑이\\n') # 줄바꿈\n",
    "file.write('고양이\\n')\n",
    "file.write('삵\\n')\n",
    "\n",
    "file.close()"
   ]
  },
  {
   "cell_type": "code",
   "execution_count": 21,
   "id": "39e52ae7-06c6-4d4d-9739-7cd8c52725f6",
   "metadata": {},
   "outputs": [
    {
     "name": "stdout",
     "output_type": "stream",
     "text": [
      "호랑이\n",
      "고양이\n",
      "삵\n"
     ]
    }
   ],
   "source": [
    "# animal.txt 읽어오기\n",
    "file = open('animal.txt', 'rt')\n",
    "\n",
    "str = file.read()\n",
    "print(str, end='')\n",
    "\n",
    "file.close()"
   ]
  },
  {
   "cell_type": "code",
   "execution_count": 23,
   "id": "1104080c-71d3-4cd1-849f-66924c9facba",
   "metadata": {},
   "outputs": [],
   "source": [
    "# w : 덮어쓰기\n",
    "\n",
    "file = open('animal.txt', 'wt')\n",
    "\n",
    "file.write('사자\\n') # 줄바꿈\n",
    "file.write('강아지\\n')\n",
    "file.write('늑대\\n')\n",
    "\n",
    "file.close()"
   ]
  },
  {
   "cell_type": "code",
   "execution_count": 25,
   "id": "6c6b83f7-fb2d-4684-bbc2-15883e15a736",
   "metadata": {},
   "outputs": [],
   "source": [
    "# a : 추가\n",
    "file = open('animal.txt', 'at')\n",
    "\n",
    "file.write('호랑이\\n') # 줄바꿈\n",
    "file.write('고양이\\n')\n",
    "file.write('삵\\n')\n",
    "\n",
    "file.close()"
   ]
  },
  {
   "cell_type": "code",
   "execution_count": 31,
   "id": "5c978632-da10-4eae-96b4-a6bc3082afc4",
   "metadata": {},
   "outputs": [
    {
     "ename": "FileExistsError",
     "evalue": "[Errno 17] File exists: 'fish.txt'",
     "output_type": "error",
     "traceback": [
      "\u001b[1;31m---------------------------------------------------------------------------\u001b[0m",
      "\u001b[1;31mFileExistsError\u001b[0m                           Traceback (most recent call last)",
      "Cell \u001b[1;32mIn[31], line 2\u001b[0m\n\u001b[0;32m      1\u001b[0m \u001b[38;5;66;03m# x : 에러\u001b[39;00m\n\u001b[1;32m----> 2\u001b[0m file \u001b[38;5;241m=\u001b[39m \u001b[38;5;28mopen\u001b[39m(\u001b[38;5;124m'\u001b[39m\u001b[38;5;124mfish.txt\u001b[39m\u001b[38;5;124m'\u001b[39m, \u001b[38;5;124m'\u001b[39m\u001b[38;5;124mxt\u001b[39m\u001b[38;5;124m'\u001b[39m)\n\u001b[0;32m      4\u001b[0m file\u001b[38;5;241m.\u001b[39mwrite(\u001b[38;5;124m'\u001b[39m\u001b[38;5;124m숭어\u001b[39m\u001b[38;5;130;01m\\n\u001b[39;00m\u001b[38;5;124m'\u001b[39m) \u001b[38;5;66;03m# 줄바꿈\u001b[39;00m\n\u001b[0;32m      5\u001b[0m file\u001b[38;5;241m.\u001b[39mwrite(\u001b[38;5;124m'\u001b[39m\u001b[38;5;124m광어\u001b[39m\u001b[38;5;130;01m\\n\u001b[39;00m\u001b[38;5;124m'\u001b[39m)\n",
      "File \u001b[1;32mC:\\ProgramData\\anaconda3\\Lib\\site-packages\\IPython\\core\\interactiveshell.py:324\u001b[0m, in \u001b[0;36m_modified_open\u001b[1;34m(file, *args, **kwargs)\u001b[0m\n\u001b[0;32m    317\u001b[0m \u001b[38;5;28;01mif\u001b[39;00m file \u001b[38;5;129;01min\u001b[39;00m {\u001b[38;5;241m0\u001b[39m, \u001b[38;5;241m1\u001b[39m, \u001b[38;5;241m2\u001b[39m}:\n\u001b[0;32m    318\u001b[0m     \u001b[38;5;28;01mraise\u001b[39;00m \u001b[38;5;167;01mValueError\u001b[39;00m(\n\u001b[0;32m    319\u001b[0m         \u001b[38;5;124mf\u001b[39m\u001b[38;5;124m\"\u001b[39m\u001b[38;5;124mIPython won\u001b[39m\u001b[38;5;124m'\u001b[39m\u001b[38;5;124mt let you open fd=\u001b[39m\u001b[38;5;132;01m{\u001b[39;00mfile\u001b[38;5;132;01m}\u001b[39;00m\u001b[38;5;124m by default \u001b[39m\u001b[38;5;124m\"\u001b[39m\n\u001b[0;32m    320\u001b[0m         \u001b[38;5;124m\"\u001b[39m\u001b[38;5;124mas it is likely to crash IPython. If you know what you are doing, \u001b[39m\u001b[38;5;124m\"\u001b[39m\n\u001b[0;32m    321\u001b[0m         \u001b[38;5;124m\"\u001b[39m\u001b[38;5;124myou can use builtins\u001b[39m\u001b[38;5;124m'\u001b[39m\u001b[38;5;124m open.\u001b[39m\u001b[38;5;124m\"\u001b[39m\n\u001b[0;32m    322\u001b[0m     )\n\u001b[1;32m--> 324\u001b[0m \u001b[38;5;28;01mreturn\u001b[39;00m io_open(file, \u001b[38;5;241m*\u001b[39margs, \u001b[38;5;241m*\u001b[39m\u001b[38;5;241m*\u001b[39mkwargs)\n",
      "\u001b[1;31mFileExistsError\u001b[0m: [Errno 17] File exists: 'fish.txt'"
     ]
    }
   ],
   "source": [
    "# x : 에러\n",
    "file = open('fish.txt', 'xt')\n",
    "\n",
    "file.write('숭어\\n') # 줄바꿈\n",
    "file.write('광어\\n')\n",
    "file.write('우럭\\n')\n",
    "\n",
    "file.close()"
   ]
  },
  {
   "cell_type": "code",
   "execution_count": 39,
   "id": "d945e754-2cc7-406d-832d-f073d035e508",
   "metadata": {},
   "outputs": [
    {
     "name": "stdout",
     "output_type": "stream",
     "text": [
      "dog.txt 파일이 생성되었습니다\n"
     ]
    }
   ],
   "source": [
    "# 파일객체 = open()\n",
    "# with open() as 파일객체 : \n",
    "with open('dog.txt', 'wt') as file : \n",
    "    file.write('개과 동물\\n')\n",
    "    file.write('개\\n')\n",
    "    file.write('승냥이\\n')\n",
    "    file.write('너구리\\n')\n",
    "    file.write('여우\\n')\n",
    "    \n",
    "    print('dog.txt 파일이 생성되었습니다')"
   ]
  },
  {
   "cell_type": "code",
   "execution_count": 53,
   "id": "607cc644-f094-46fb-a30e-9c6f2a137af7",
   "metadata": {},
   "outputs": [
    {
     "name": "stdout",
     "output_type": "stream",
     "text": [
      "개과 동물\n",
      "개\n",
      "승냥이\n",
      "너구리\n",
      "여우\n"
     ]
    }
   ],
   "source": [
    "size = 5\n",
    "with open('dog.txt', 'rt') as file : \n",
    "    while True : \n",
    "        str = file.read(size) # 읽어올 문자수(파일크기)를 지정할 수 있다\n",
    "        if not str : # str == ''\n",
    "            break\n",
    "        print(str, end='')"
   ]
  },
  {
   "cell_type": "code",
   "execution_count": 55,
   "id": "52ef055b-618a-4442-bac9-e3b13a0ef60d",
   "metadata": {},
   "outputs": [
    {
     "name": "stdout",
     "output_type": "stream",
     "text": [
      "개과 동물\n",
      "개\n",
      "승냥이\n",
      "너구리\n",
      "여우\n"
     ]
    }
   ],
   "source": [
    "with open('dog.txt', 'rt') as file : \n",
    "    while True : \n",
    "        str = file.readline() # 한줄씩 읽어온다\n",
    "        if not str : \n",
    "            break\n",
    "        print(str, end='')"
   ]
  },
  {
   "cell_type": "code",
   "execution_count": 71,
   "id": "657a156f-6170-4fb5-8b10-4114a2ece244",
   "metadata": {},
   "outputs": [
    {
     "name": "stdout",
     "output_type": "stream",
     "text": [
      "['개과 동물\\n', '개\\n', '승냥이\\n', '너구리\\n', '여우\\n']\n",
      "1. 개과 동물\n",
      "2. 개\n",
      "3. 승냥이\n",
      "4. 너구리\n",
      "5. 여우\n"
     ]
    }
   ],
   "source": [
    "with open('dog.txt', 'rt') as file : \n",
    "   str = file.readlines() # 한줄씩 읽어온 것을 리스트로 저장\n",
    "\n",
    "print(str)\n",
    "\n",
    "# 1. 2. 3..... 순번이 함께 출력되도록 하시오..\n",
    "for i, s in enumerate(str, 1) : \n",
    "    print(f'{i}. { s.rstrip('\\n')}') # 불필요한 문자열 제거 하는 메서드 - 오른쪽에 \\n 제거"
   ]
  },
  {
   "cell_type": "code",
   "execution_count": 75,
   "id": "96bbd148-c9e8-4b14-aca6-198c3d7d00b2",
   "metadata": {},
   "outputs": [
    {
     "name": "stdout",
     "output_type": "stream",
     "text": [
      "nation.txt가 저장되었습니다\n"
     ]
    }
   ],
   "source": [
    "nation = ['그리스','아테네','독일','베를린','러시아','모스크바','미국','워싱턴']\n",
    "with open('nation.txt', 'wt') as file : \n",
    "    \n",
    "    for i in range(0, len(nation), 2) : \n",
    "        file.write(nation[i] + '-' + nation[i+1] + '\\n')\n",
    "\n",
    "    print('nation.txt가 저장되었습니다')"
   ]
  },
  {
   "cell_type": "code",
   "execution_count": 109,
   "id": "8dc2c15a-7b83-4f4c-b243-866dbb6c9cb6",
   "metadata": {},
   "outputs": [
    {
     "name": "stdout",
     "output_type": "stream",
     "text": [
      "['\"김나라\", \"목포시\",\"010-1111-1111\"\\n', '\"이나라\", \"광주시\",\"011-2222-1111\"\\n', '\"장나라\", \"부산시\",\"011-3333-1111\"\\n', '\"최나라\", \"경주시\",\"011-4444-1111\"']\n",
      "\"김나라\", \"목포시\",\"010-1111-1111\"\n",
      "\"이나라\", \"광주시\",\"010-2222-1111\"\n",
      "\"장나라\", \"부산시\",\"010-3333-1111\"\n",
      "\"최나라\", \"경주시\",\"010-4444-1111\"\n",
      "3회 변경\n"
     ]
    }
   ],
   "source": [
    "with open('연락처.txt', 'rt', encoding='UTF-8') as file : \n",
    "    phone = file.readlines()\n",
    "\n",
    "    print(phone)\n",
    "    \n",
    "    cnt = 0\n",
    "    for p in phone : \n",
    "        cnt += p.count('011')\n",
    "        print(p.replace('011', '010'), end='')\n",
    "        \n",
    "    print(f'\\n{cnt}회 변경')"
   ]
  },
  {
   "cell_type": "code",
   "execution_count": null,
   "id": "3d392013-71c2-4024-bbb2-fcef16cf4fda",
   "metadata": {},
   "outputs": [],
   "source": []
  },
  {
   "cell_type": "code",
   "execution_count": null,
   "id": "1f644b5e-bf03-4faf-9e64-1aab02bf2937",
   "metadata": {},
   "outputs": [],
   "source": []
  },
  {
   "cell_type": "code",
   "execution_count": null,
   "id": "b624d411-6812-4a12-8489-96b15b082f4e",
   "metadata": {},
   "outputs": [],
   "source": []
  },
  {
   "cell_type": "code",
   "execution_count": null,
   "id": "05877487-389a-4826-b461-e3c81de2c542",
   "metadata": {},
   "outputs": [],
   "source": []
  }
 ],
 "metadata": {
  "kernelspec": {
   "display_name": "Python 3 (ipykernel)",
   "language": "python",
   "name": "python3"
  },
  "language_info": {
   "codemirror_mode": {
    "name": "ipython",
    "version": 3
   },
   "file_extension": ".py",
   "mimetype": "text/x-python",
   "name": "python",
   "nbconvert_exporter": "python",
   "pygments_lexer": "ipython3",
   "version": "3.12.4"
  }
 },
 "nbformat": 4,
 "nbformat_minor": 5
}
