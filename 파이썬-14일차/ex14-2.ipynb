{
 "cells": [
  {
   "cell_type": "code",
   "execution_count": 21,
   "id": "911bf7d0-ffe0-4c25-bf94-e6a1e5f9b054",
   "metadata": {},
   "outputs": [
    {
     "name": "stdout",
     "output_type": "stream",
     "text": [
      "--- 과목 등록 시작 ---\n"
     ]
    },
    {
     "name": "stdin",
     "output_type": "stream",
     "text": [
      "과목명 :  국어\n",
      "점수 :  30\n",
      "과목명 :  수학\n",
      "점수 :  50\n",
      "과목명 :  과학\n",
      "점수 :  1000\n"
     ]
    },
    {
     "name": "stdout",
     "output_type": "stream",
     "text": [
      "--점수는 0에서 100사이 값만 입력 가능\n"
     ]
    },
    {
     "name": "stdin",
     "output_type": "stream",
     "text": [
      "점수 :  86\n",
      "과목명 :  \n"
     ]
    },
    {
     "name": "stdout",
     "output_type": "stream",
     "text": [
      "--- 과목 등록 종료 ---\n",
      "----학생정보----\n",
      "김유신(3) / 100\n",
      "- 국어 : 30점\n",
      "- 수학 : 50점\n",
      "- 과학 : 86점\n"
     ]
    }
   ],
   "source": [
    "# Subject 클래스 \n",
    "# 과목의 이름과 점수를 입력 받을 수 있음 (생성자)\n",
    "# 과목의 정보 출력 print_info() 메서드\n",
    "\n",
    "class Subject : \n",
    "    def __init__(self, subjectName, score) : \n",
    "        self.subjectName = subjectName\n",
    "        self.score = score\n",
    "    def print_info(self) : \n",
    "        print(f'- {self.subjectName} : {self.score}점')\n",
    "\n",
    "# 학생의 성적을 관리하는 \n",
    "# Student 클래스\n",
    "# 학번, 학생이름, 등급\n",
    "# 성적리스트 = subject_list\n",
    "# add_subject 메서드 - 과목이름과 점수 입력 받아서 sujbect_list에 등록\n",
    "# print_info : 학생정보\n",
    "\n",
    "\n",
    "class Student : \n",
    "    def __init__(self, studentId, studentName, grade) : \n",
    "        self.studentId = studentId\n",
    "        self.studentName = studentName\n",
    "        self.grade = grade\n",
    "        self.subject_list = [] # 과목+점수 리스트\n",
    "\n",
    "    # 과목명에 엔터 입력할때까지 반복해서 입력 받도록 \n",
    "    # 점수는 0~100 점 아니면 다시 입력 받도록 \n",
    "    \n",
    "    def add_subject (self) : \n",
    "        print('--- 과목 등록 시작 ---')\n",
    "        while True : \n",
    "            subjectName = input('과목명 : ')\n",
    "            if not subjectName :\n",
    "                print('--- 과목 등록 종료 ---')\n",
    "                return \n",
    "\n",
    "            while True : \n",
    "                score = int(input('점수 : '))\n",
    "                if score < 0 or score > 100 : \n",
    "                    print('--점수는 0에서 100사이 값만 입력 가능')\n",
    "                    continue\n",
    "                break\n",
    "\n",
    "            subject = Subject(subjectName, score)            \n",
    "            self.subject_list.append( subject )\n",
    "\n",
    "    # print_info : 학생정보 + 점수리스트 함께 출력\n",
    "    def print_info(self) : \n",
    "        print('----학생정보----')\n",
    "        print(f'{self.studentName}({self.grade}) / {self.studentId}')\n",
    "        for subject in self.subject_list : \n",
    "            subject.print_info()\n",
    "            \n",
    "\n",
    "kim = Student(100, '김유신', 3)\n",
    "kim.add_subject()\n",
    "kim.print_info()"
   ]
  }
 ],
 "metadata": {
  "kernelspec": {
   "display_name": "Python 3 (ipykernel)",
   "language": "python",
   "name": "python3"
  },
  "language_info": {
   "codemirror_mode": {
    "name": "ipython",
    "version": 3
   },
   "file_extension": ".py",
   "mimetype": "text/x-python",
   "name": "python",
   "nbconvert_exporter": "python",
   "pygments_lexer": "ipython3",
   "version": "3.12.4"
  }
 },
 "nbformat": 4,
 "nbformat_minor": 5
}
