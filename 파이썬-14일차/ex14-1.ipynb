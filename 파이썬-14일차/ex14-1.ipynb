{
 "cells": [
  {
   "cell_type": "markdown",
   "id": "e73ee382-9f2e-407f-b7c2-b6ddd8b0e9c3",
   "metadata": {},
   "source": [
    "1. 클래스 = 설계도\n",
    "- 클래스의 형태대로 메모리공간에 할당이 되면 = 인스턴스, 객체(object)\n",
    "\n",
    "2. 클래스의 구성요소\n",
    "- 생성자\n",
    "- 메서드\n",
    "- 소멸자\n",
    "- 변수, 필드 (멤버변수)\n",
    "\n",
    "3. 메서드에서 self = 생성된 인스턴스(객체)의 주소를 가리킨다.\n",
    "\n",
    "4. 문법\n",
    "- 클래스 이름 Pascal case로 작성 (첫글자 무조건 대문자)\n",
    "\n",
    "1) 설계도 작성\n",
    "\n",
    "class 클래스명 :\n",
    "    def __init__(self, 변수명) :\n",
    "      self.변수명 = 변수명\n",
    "\n",
    "    def 메서드명(매개변수, 매개변수 ) :\n",
    "       실행할 내용\n",
    "       return 값\n",
    "\n",
    "2) 객체 생성\n",
    "- 클래스 형태대로 메모리 공간에 할당 = 인스턴스, 객체\n",
    "- 생성자에서 self를 제외한 매개변수 만큼 넣어준다.\n",
    "\n",
    "문법\n",
    "객체명/변수명 = 클래스명(값)  "
   ]
  },
  {
   "cell_type": "code",
   "execution_count": 14,
   "id": "4ba1732f-c480-47e7-bd90-84e7c09b1d08",
   "metadata": {},
   "outputs": [
    {
     "name": "stdout",
     "output_type": "stream",
     "text": [
      "----학생정보----\n",
      "학번 : 100\n",
      "이름 : 이순신\n",
      "학년 : 3\n",
      "----학생정보----\n",
      "학번 : 200\n",
      "이름 : 김유신\n",
      "학년 : 2\n",
      "----학생정보----\n",
      "학번 : 100\n",
      "이름 : 이순신\n",
      "학년 : 3\n",
      "----학생정보----\n",
      "학번 : 200\n",
      "이름 : 김유신\n",
      "학년 : 2\n"
     ]
    }
   ],
   "source": [
    "class Student :\n",
    "    \n",
    "    def __init__(self, studetnId, stduentName, grade) : \n",
    "        self.studetnId = studetnId\n",
    "        self.stduentName = stduentName\n",
    "        self.grade = grade\n",
    "        \n",
    "    def print_info(self) : \n",
    "        print('----학생정보----')\n",
    "        print(f'학번 : {self.studetnId}')\n",
    "        print(f'이름 : {self.stduentName}')\n",
    "        print(f'학년 : {self.grade}')\n",
    "\n",
    "\n",
    "# 리스트에 객체를 추가해서 관리할 수도 있다.\n",
    "# 리스트에 객체의 주소값이 저장된다.\n",
    "# 반복문 -> 객체가 가지고 있는 메서드 호출하여 정보 확인\n",
    "\n",
    "student_list = []\n",
    "\n",
    "student_list.append( Student(100, '이순신', 3) )\n",
    "student_list.append( Student(200, '김유신', 2) )\n",
    "\n",
    "student_list[0].print_info()\n",
    "student_list[1].print_info()\n",
    "\n",
    "for student in student_list : \n",
    "    student.print_info()"
   ]
  },
  {
   "cell_type": "code",
   "execution_count": 22,
   "id": "409e4604-8f32-475b-af21-530d88ad8d16",
   "metadata": {},
   "outputs": [
    {
     "name": "stdout",
     "output_type": "stream",
     "text": [
      "13\n",
      "7\n",
      "30\n",
      "3.33\n"
     ]
    }
   ],
   "source": [
    "# 관련된 기능들만 모아놓은 클래스\n",
    "\n",
    "# 계산기능이 있는 클래스\n",
    "class Caculator : \n",
    "    # 인스턴스 메서드는 항상 첫번째 매개변수로 self를 넣어줘야 한다.\n",
    "    def add(self, x, y) : \n",
    "        return x + y\n",
    "        \n",
    "    def minus(self, x, y) : \n",
    "        return x - y\n",
    "        \n",
    "    def multiply(self, x, y) : \n",
    "        return x * y\n",
    "\n",
    "    def divide (self, x, y) : \n",
    "        return round( x / y, 2)\n",
    "\n",
    "my_calc = Caculator() # 객체 생성\n",
    "x = 10\n",
    "y = 3\n",
    "\n",
    "print ( my_calc.add(x, y) )\n",
    "print ( my_calc.minus(x, y) )\n",
    "print ( my_calc.multiply(x, y) )\n",
    "print ( my_calc.divide(x, y) )"
   ]
  },
  {
   "cell_type": "code",
   "execution_count": 11,
   "id": "fcca912e-26b0-4c0e-877b-e1bcee4be196",
   "metadata": {},
   "outputs": [
    {
     "name": "stdout",
     "output_type": "stream",
     "text": [
      "3\n",
      "-1\n"
     ]
    }
   ],
   "source": [
    "# from 모듈명 import 클래스명\n",
    "\n",
    "from test import Calculator\n",
    "\n",
    "calc = Calculator()\n",
    "\n",
    "print ( calc.add(1,2) ) \n",
    "print ( calc.minus(1,2) ) "
   ]
  },
  {
   "cell_type": "code",
   "execution_count": 25,
   "id": "524b6537-3b82-4d41-8ea4-c60a37dbf9a5",
   "metadata": {},
   "outputs": [
    {
     "name": "stdout",
     "output_type": "stream",
     "text": [
      "---- 책 정보 -----\n",
      " 제목 : 파이썬\n",
      " 작가 : 민경태\n",
      "---- 책 정보 -----\n",
      " 제목 : 어린왕자\n",
      " 작가 : 생떽쥐페리\n"
     ]
    }
   ],
   "source": [
    "class Book : \n",
    "    def set_info(self, title, author) : \n",
    "        self.title = title\n",
    "        self.author = author\n",
    "\n",
    "    def print_info(self) : \n",
    "        print('---- 책 정보 -----')\n",
    "        print(f' 제목 : {self.title}')\n",
    "        print(f' 작가 : {self.author}')\n",
    "\n",
    "book1 = Book()\n",
    "book2 = Book()\n",
    "\n",
    "book_list = [book1, book2]\n",
    "\n",
    "book_list[0].set_info('파이썬','민경태')\n",
    "book_list[1].set_info('어린왕자','생떽쥐페리')\n",
    "\n",
    "for book in book_list : \n",
    "    book.print_info()"
   ]
  },
  {
   "cell_type": "code",
   "execution_count": 29,
   "id": "6971e00c-08ee-4de3-a6c6-42268f25af8d",
   "metadata": {},
   "outputs": [
    {
     "name": "stdout",
     "output_type": "stream",
     "text": [
      "---- 책 정보 -----\n",
      " 제목 : 파이썬\n",
      " 작가 : 민경태\n",
      "---- 책 정보 -----\n",
      " 제목 : 어린왕자\n",
      " 작가 : 생떽쥐페리\n"
     ]
    }
   ],
   "source": [
    "class Book : \n",
    "    def __init__(self, title, author) : \n",
    "        self.title = title\n",
    "        self.author = author\n",
    "\n",
    "    def print_info(self) : \n",
    "        print('---- 책 정보 -----')\n",
    "        print(f' 제목 : {self.title}')\n",
    "        print(f' 작가 : {self.author}')\n",
    "\n",
    "book1 = Book('파이썬','민경태')\n",
    "book2 = Book('어린왕자','생떽쥐페리')\n",
    "\n",
    "book_list = [book1, book2]\n",
    "\n",
    "for book in book_list : \n",
    "    book.print_info()"
   ]
  },
  {
   "cell_type": "code",
   "execution_count": 37,
   "id": "1a174447-7a00-4aa9-8806-7e8814b9cbac",
   "metadata": {},
   "outputs": [
    {
     "name": "stdin",
     "output_type": "stream",
     "text": [
      "시간을 입력하세요 - hh:mm:dd 12:00:00\n"
     ]
    },
    {
     "name": "stdout",
     "output_type": "stream",
     "text": [
      "12시 0분 0초\n"
     ]
    },
    {
     "name": "stdin",
     "output_type": "stream",
     "text": [
      "추가할 시간 입력 :  3\n",
      "추가할 분 입력 :  90\n",
      "추가할 초 입력 :  3690\n"
     ]
    },
    {
     "name": "stdout",
     "output_type": "stream",
     "text": [
      "17시 31분 30초\n"
     ]
    }
   ],
   "source": [
    "class Watch : \n",
    "    def __init__(self) : \n",
    "        time = input('시간을 입력하세요 - hh:mm:dd') # 지역변수 (def안에서만 유효하다)\n",
    "        self.hour = int(time[0:2])  # self 변수는. 인스턴스가 유지되는 동안 계속 있다.\n",
    "        self.minute = int(time[3:5])\n",
    "        self.second = int(time[6:8])\n",
    "\n",
    "    def print_info(self) : \n",
    "        print(f'{self.hour}시 {self.minute}분 {self.second}초')\n",
    "\n",
    "    def add_hour(self, hour) : # 매개변수(메서드를 통해 들어온 변수) - def 안에서만 유효하다\n",
    "        self.hour += hour # 들어온 시간을 누적해서 더해준다.\n",
    "        self.hour %= 24   # 24로 나눴을때 나머지(남은 시간)만 남긴다\n",
    "     \n",
    "    def add_minute(self, minute) :\n",
    "        self.minute += minute\n",
    "        self.add_hour( self.minute // 60 ) # 60으로 나눈 후 몫 -> 시간\n",
    "        self.minute %= 60\n",
    "        \n",
    "    def add_second(self, second) :\n",
    "        self.second += second\n",
    "        self.add_minute( self.second // 60 ) # 60으로 나눈 후 몫 -> 분\n",
    "        self.second %= 60\n",
    "        \n",
    "watch = Watch() # 생성되는 시점에서 시간을 입력받는다.\n",
    "watch.print_info()\n",
    "\n",
    "hour = int(input('추가할 시간 입력 : '))\n",
    "minute = int(input('추가할 분 입력 : '))\n",
    "second = int(input('추가할 초 입력 : '))\n",
    "\n",
    "watch.add_hour(hour)\n",
    "watch.add_minute(minute)\n",
    "watch.add_second(second)\n",
    "\n",
    "watch.print_info()"
   ]
  },
  {
   "cell_type": "code",
   "execution_count": 43,
   "id": "b3e8356e-c285-4966-b82d-52b1b310d602",
   "metadata": {},
   "outputs": [
    {
     "name": "stdout",
     "output_type": "stream",
     "text": [
      "가수이름 : 김동률\n",
      "노래제목 : 취중진담(발라드)\n"
     ]
    }
   ],
   "source": [
    "class Song : \n",
    "    def set_song(self, title, genre) : \n",
    "        self.title = title\n",
    "        self.genre = genre\n",
    "        \n",
    "    def print_song(self) : \n",
    "        print(f'노래제목 : {self.title}({self.genre})')\n",
    "    \n",
    "class Singer : \n",
    "    def set_singer(self, signer) : \n",
    "        self.singer = signer\n",
    "        \n",
    "    def hit_song(self, song) : # 매개변수에 객체를 받음\n",
    "        self.song = song # 인스턴스 변수로 저장 ( self에 저장)\n",
    "\n",
    "    def print_singer(self) : \n",
    "        print(f'가수이름 : {self.singer}')\n",
    "        self.song.print_song() # 해당 객체의 메서드를 호출해서 실행 가능\n",
    "        \n",
    "song = Song()\n",
    "song.set_song('취중진담','발라드')\n",
    "\n",
    "singer = Singer()\n",
    "singer.set_singer('김동률')\n",
    "\n",
    "singer.hit_song(song)\n",
    "singer.print_singer()\n"
   ]
  },
  {
   "cell_type": "code",
   "execution_count": null,
   "id": "2050780d-8696-4ea6-a990-36f33760fe44",
   "metadata": {},
   "outputs": [],
   "source": []
  }
 ],
 "metadata": {
  "kernelspec": {
   "display_name": "Python 3 (ipykernel)",
   "language": "python",
   "name": "python3"
  },
  "language_info": {
   "codemirror_mode": {
    "name": "ipython",
    "version": 3
   },
   "file_extension": ".py",
   "mimetype": "text/x-python",
   "name": "python",
   "nbconvert_exporter": "python",
   "pygments_lexer": "ipython3",
   "version": "3.12.4"
  }
 },
 "nbformat": 4,
 "nbformat_minor": 5
}
