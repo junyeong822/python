{
 "cells": [
  {
   "cell_type": "code",
   "execution_count": 29,
   "id": "413c0583-06b4-4ca1-90d3-17a4512720c4",
   "metadata": {},
   "outputs": [
    {
     "name": "stdout",
     "output_type": "stream",
     "text": [
      "{'이사': 7, '주임': 11, '대리': 18, '실장': 9, '팀장': 9, '상무': 7, '차장': 8, '부장': 13, '과장': 11, '사원': 7}\n",
      "{'홍보부': 10, '총무부': 6, '경영관리부': 5, '업무부': 6, '에너지사업부': 9, '경리부': 12, '경영지원팀': 8, '기전부': 7, '개발부': 5, '영업부': 7, '교육부': 8, '해외홍보부': 5, '주택사업부': 4, '자재부': 8}\n",
      "{'남자': 50, '여자': 50}\n"
     ]
    }
   ],
   "source": [
    "# 직급별, 부서별로 인원수 구하기\n",
    "# 딕셔너리에 값을 추가 - 처음 보는 부서면 새로운 부서가 딕셔너리에 생성(초기값 0으로)\n",
    "# 그리고 나서 해당부서에 값 += 1(누적)\n",
    "\n",
    "# 성별 인원수 (주민번호 이용)\n",
    "\n",
    "position = {}  # {'홍보부' : 3, '총무부' : 2}\n",
    "part = {}\n",
    "gender = {'남자':0, '여자':0} # {'남자 ': 0, '여자' : 0}\n",
    "\n",
    "with open('member.csv','rt') as file : \n",
    "    line = file.readline() # 열머리글 읽어주기, 따로 저장x   \n",
    "    while True :   # 데이터 while반복 돌면서 읽고, li에 저장하기\n",
    "        line = file.readline()\n",
    "        if not line : \n",
    "            break\n",
    "        line = line.rstrip('\\r\\n').split(',')\n",
    "\n",
    "        ## 괄호 주의\n",
    "        if line[1][7] in ['1','3'] : # or의 효과를 내는 연산자 in ~~중에서 포함되어 있냐?\n",
    "            gender['남자']  += 1\n",
    "        else : \n",
    "            gender['여자']  += 1\n",
    "        \n",
    "\n",
    "        if line[2] not in part :\n",
    "            part[line[2]] = 0\n",
    "            \n",
    "        if line[3] not in position :  # 포함되어있지 않다면, 해당 항목 에성\n",
    "            position[line[3]] = 0 #position.setdefault(line[3], 0)\n",
    "\n",
    "        position[line[3]] += 1\n",
    "        part[line[2]] += 1\n",
    "        \n",
    "print(position)      \n",
    "print(part)\n",
    "print(gender)"
   ]
  },
  {
   "cell_type": "code",
   "execution_count": 37,
   "id": "664d33d5-3960-44d9-9f18-1b3f2ca9ec98",
   "metadata": {},
   "outputs": [
    {
     "name": "stdout",
     "output_type": "stream",
     "text": [
      "{'인천': 12, '서울': 44, '경기': 44}\n"
     ]
    }
   ],
   "source": [
    "# 거주 지역별 인원수 - 주소의 앞 글자 2개를 이용\n",
    "\n",
    "addr_sum = {}\n",
    "\n",
    "with open('member.csv','rt') as file : \n",
    "    line = file.readline() \n",
    "    while True :   \n",
    "        line = file.readline()\n",
    "        if not line : \n",
    "            break\n",
    "        line = line.rstrip('\\r\\n').split(',')\n",
    "        zone = line[4][:2]\n",
    "        if zone not in addr_sum : \n",
    "            addr_sum[zone] = 0\n",
    "        addr_sum[zone] += 1\n",
    "\n",
    "print(addr_sum)"
   ]
  },
  {
   "cell_type": "code",
   "execution_count": 75,
   "id": "7cc39df7-dfb5-44c3-9c39-e4b3b46f08bb",
   "metadata": {},
   "outputs": [],
   "source": [
    "# 생년월일이 추가된 새로운 리스트를 만들고 출력\n",
    "from datetime import *\n",
    "from time import *\n",
    "\n",
    "# member_add_birthday.csv -- 생일데이터가 추가된 새로운 파일 생성\n",
    "\n",
    "with open('member.csv','rt') as source : \n",
    "    with open('member_add_birthday.csv','wt') as copy : \n",
    "        line = source.readline() \n",
    "        while True :   \n",
    "            line = source.readline()\n",
    "            if not line : \n",
    "                break\n",
    "            line = line.rstrip('\\r\\n').split(',')\n",
    "            \n",
    "            yy = int(line[1][:2])+1900\n",
    "            mm = int(line[1][2:4])\n",
    "            dd = int(line[1][4:6])\n",
    "            birth = date(yy,mm,dd).strftime('%Y-%m-%d') # date() 숫자를 날짜로 조합 , strftime() - 날짜를 형식지정 - 문자열\n",
    "            line.append(birth)\n",
    "            copy.write(str(line)+'\\n')\n",
    "        "
   ]
  }
 ],
 "metadata": {
  "kernelspec": {
   "display_name": "Python 3 (ipykernel)",
   "language": "python",
   "name": "python3"
  },
  "language_info": {
   "codemirror_mode": {
    "name": "ipython",
    "version": 3
   },
   "file_extension": ".py",
   "mimetype": "text/x-python",
   "name": "python",
   "nbconvert_exporter": "python",
   "pygments_lexer": "ipython3",
   "version": "3.12.4"
  }
 },
 "nbformat": 4,
 "nbformat_minor": 5
}
