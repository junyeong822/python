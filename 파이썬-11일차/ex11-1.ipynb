{
 "cells": [
  {
   "cell_type": "code",
   "execution_count": 33,
   "id": "81f6e979-dad8-4320-81e7-bfcbbb39c99a",
   "metadata": {},
   "outputs": [
    {
     "name": "stdout",
     "output_type": "stream",
     "text": [
      "[['김나라', '목포시', '010-111-1111', 10], ['이나라', '서울시', '010-111-1111', 15], ['장나라', '광주시', '010-111-1111', 36], ['최나라', '부산시', '010-111-1111', 12]]\n",
      "73 / 18.25\n"
     ]
    }
   ],
   "source": [
    "# 멤버리스트의 총판매수량을 구하시오.\n",
    "member_list = []\n",
    "total = 0\n",
    "cnt = 0\n",
    "with open('연락처.csv','rt') as file : \n",
    "    line = file.readline() # 열머리글 읽어주기, 따로 저장x   \n",
    "    while True :   # 데이터 while반복 돌면서 읽고, li에 저장하기\n",
    "        line = file.readline()\n",
    "        if not line : \n",
    "            break\n",
    "        member = line.split(',')\n",
    "        member[3] = int(member[3].rstrip('\\n'))\n",
    "        total += member[3]\n",
    "        cnt += 1\n",
    "        member_list.append(member)\n",
    "print(member_list)\n",
    "print(total, \"/\",total/cnt)"
   ]
  },
  {
   "cell_type": "code",
   "execution_count": null,
   "id": "ef9e391c-a7db-49ec-99b9-14ec848f6755",
   "metadata": {},
   "outputs": [],
   "source": []
  },
  {
   "cell_type": "code",
   "execution_count": null,
   "id": "c2915f0c-cc0f-470c-b1d9-bd70be6f36cf",
   "metadata": {},
   "outputs": [],
   "source": []
  },
  {
   "cell_type": "code",
   "execution_count": null,
   "id": "6aa3b403-a548-4fb8-8a29-d0ca78ce9197",
   "metadata": {},
   "outputs": [],
   "source": []
  },
  {
   "cell_type": "code",
   "execution_count": null,
   "id": "3c2314ce-97c0-432b-9734-39d02fc74d4b",
   "metadata": {},
   "outputs": [],
   "source": []
  },
  {
   "cell_type": "code",
   "execution_count": 79,
   "id": "3f900100-c9d9-4098-ac8a-1275102511d8",
   "metadata": {},
   "outputs": [
    {
     "name": "stdout",
     "output_type": "stream",
     "text": [
      "8,417,000 / 9\n",
      "5,033,600 / 21\n"
     ]
    }
   ],
   "source": [
    "# 판매현황 시트에서 데이터를 불러와서, 수입/지출의 각각 합계를 구하시오.\n",
    "total_income = 0\n",
    "total_income_cnt = 0\n",
    "total_expenses = 0\n",
    "total_expenses_cnt = 0\n",
    "\n",
    "with open('판매현황.csv','rt', newline='') as file : \n",
    "    line = file.readline() # 열머리글 읽어주기, 따로 저장x   \n",
    "    while True :   # 데이터 while반복 돌면서 읽고, li에 저장하기\n",
    "        line = file.readline()\n",
    "        if not line : \n",
    "            break\n",
    "        line = line.rstrip('\\r\\n').split(',')\n",
    "        line[3] = int(line[3])\n",
    "        if line[1] == '수입' :\n",
    "            total_income += line[3]\n",
    "            total_income_cnt += 1\n",
    "        elif line[1] == '지출' :\n",
    "            total_expenses += line[3]\n",
    "            total_expenses_cnt += 1\n",
    "\n",
    "print(f'{format(total_income,',')} / {total_income_cnt}')\n",
    "print(f'{format(total_expenses,',')} / {total_expenses_cnt}')\n"
   ]
  },
  {
   "cell_type": "code",
   "execution_count": 115,
   "id": "d9b1215b-b4c8-48b1-9e63-191d8b492384",
   "metadata": {},
   "outputs": [
    {
     "name": "stdout",
     "output_type": "stream",
     "text": [
      "수입 합계 : 8,417,000원 / 건수 : 9\n",
      "지출 합계 : 77,300원 / 건수 : 21\n"
     ]
    }
   ],
   "source": [
    "# 판매현황 시트에서 데이터를 불러와서, 수입/지출의 각각 합계를 구하시오.\n",
    "total_income = 0     #수입합계\n",
    "total_income_cnt = 0 #수입건수\n",
    "total_expenses = 0   # 지출합계\n",
    "total_expenses_cnt = 0  #지출건수\n",
    "\n",
    "with open('판매현황.csv','rt', newline='') as file : \n",
    "    line = file.readline() # 열머리글 읽어주기, 따로 저장x   \n",
    "    while True :   # 데이터 while반복 돌면서 읽고, li에 저장하기\n",
    "        line = file.readline()\n",
    "        if not line : \n",
    "            break\n",
    "        line = line.rstrip('\\r\\n').split(',')\n",
    "        if line[1] == '수입' :\n",
    "            total_income += int(line[3])\n",
    "            total_income_cnt += 1\n",
    "        elif line[1] == '지출' :\n",
    "            total_expenses = int(line[3])\n",
    "            total_expenses_cnt += 1\n",
    "\n",
    "print(f'수입 합계 : { format(total_income,',')}원 / 건수 : {total_income_cnt}')\n",
    "print(f'지출 합계 : {format(total_expenses,',')}원 / 건수 : {total_expenses_cnt}')"
   ]
  },
  {
   "cell_type": "code",
   "execution_count": 151,
   "id": "d9907652-71d6-494e-94f4-5a166e66fbed",
   "metadata": {},
   "outputs": [
    {
     "ename": "KeyboardInterrupt",
     "evalue": "Interrupted by user",
     "output_type": "error",
     "traceback": [
      "\u001b[1;31m---------------------------------------------------------------------------\u001b[0m",
      "\u001b[1;31mKeyboardInterrupt\u001b[0m                         Traceback (most recent call last)",
      "Cell \u001b[1;32mIn[151], line 6\u001b[0m\n\u001b[0;32m      4\u001b[0m item_expenses \u001b[38;5;241m=\u001b[39m \u001b[38;5;241m0\u001b[39m   \u001b[38;5;66;03m# 지출합계\u001b[39;00m\n\u001b[0;32m      5\u001b[0m item_expenses_cnt \u001b[38;5;241m=\u001b[39m \u001b[38;5;241m0\u001b[39m  \u001b[38;5;66;03m#지출건수\u001b[39;00m\n\u001b[1;32m----> 6\u001b[0m item \u001b[38;5;241m=\u001b[39m \u001b[38;5;28minput\u001b[39m(\u001b[38;5;124m'\u001b[39m\u001b[38;5;124m조회할 품목 이름을 입력 : \u001b[39m\u001b[38;5;124m'\u001b[39m)\n\u001b[0;32m      8\u001b[0m \u001b[38;5;28;01mwith\u001b[39;00m \u001b[38;5;28mopen\u001b[39m(\u001b[38;5;124m'\u001b[39m\u001b[38;5;124m판매현황.csv\u001b[39m\u001b[38;5;124m'\u001b[39m,\u001b[38;5;124m'\u001b[39m\u001b[38;5;124mrt\u001b[39m\u001b[38;5;124m'\u001b[39m, newline\u001b[38;5;241m=\u001b[39m\u001b[38;5;124m'\u001b[39m\u001b[38;5;124m'\u001b[39m) \u001b[38;5;28;01mas\u001b[39;00m file : \n\u001b[0;32m      9\u001b[0m     line \u001b[38;5;241m=\u001b[39m file\u001b[38;5;241m.\u001b[39mreadline() \u001b[38;5;66;03m# 열머리글 읽어주기, 따로 저장x   \u001b[39;00m\n",
      "File \u001b[1;32mC:\\ProgramData\\anaconda3\\Lib\\site-packages\\ipykernel\\kernelbase.py:1262\u001b[0m, in \u001b[0;36mKernel.raw_input\u001b[1;34m(self, prompt)\u001b[0m\n\u001b[0;32m   1260\u001b[0m     msg \u001b[38;5;241m=\u001b[39m \u001b[38;5;124m\"\u001b[39m\u001b[38;5;124mraw_input was called, but this frontend does not support input requests.\u001b[39m\u001b[38;5;124m\"\u001b[39m\n\u001b[0;32m   1261\u001b[0m     \u001b[38;5;28;01mraise\u001b[39;00m StdinNotImplementedError(msg)\n\u001b[1;32m-> 1262\u001b[0m \u001b[38;5;28;01mreturn\u001b[39;00m \u001b[38;5;28mself\u001b[39m\u001b[38;5;241m.\u001b[39m_input_request(\n\u001b[0;32m   1263\u001b[0m     \u001b[38;5;28mstr\u001b[39m(prompt),\n\u001b[0;32m   1264\u001b[0m     \u001b[38;5;28mself\u001b[39m\u001b[38;5;241m.\u001b[39m_parent_ident[\u001b[38;5;124m\"\u001b[39m\u001b[38;5;124mshell\u001b[39m\u001b[38;5;124m\"\u001b[39m],\n\u001b[0;32m   1265\u001b[0m     \u001b[38;5;28mself\u001b[39m\u001b[38;5;241m.\u001b[39mget_parent(\u001b[38;5;124m\"\u001b[39m\u001b[38;5;124mshell\u001b[39m\u001b[38;5;124m\"\u001b[39m),\n\u001b[0;32m   1266\u001b[0m     password\u001b[38;5;241m=\u001b[39m\u001b[38;5;28;01mFalse\u001b[39;00m,\n\u001b[0;32m   1267\u001b[0m )\n",
      "File \u001b[1;32mC:\\ProgramData\\anaconda3\\Lib\\site-packages\\ipykernel\\kernelbase.py:1305\u001b[0m, in \u001b[0;36mKernel._input_request\u001b[1;34m(self, prompt, ident, parent, password)\u001b[0m\n\u001b[0;32m   1302\u001b[0m \u001b[38;5;28;01mexcept\u001b[39;00m \u001b[38;5;167;01mKeyboardInterrupt\u001b[39;00m:\n\u001b[0;32m   1303\u001b[0m     \u001b[38;5;66;03m# re-raise KeyboardInterrupt, to truncate traceback\u001b[39;00m\n\u001b[0;32m   1304\u001b[0m     msg \u001b[38;5;241m=\u001b[39m \u001b[38;5;124m\"\u001b[39m\u001b[38;5;124mInterrupted by user\u001b[39m\u001b[38;5;124m\"\u001b[39m\n\u001b[1;32m-> 1305\u001b[0m     \u001b[38;5;28;01mraise\u001b[39;00m \u001b[38;5;167;01mKeyboardInterrupt\u001b[39;00m(msg) \u001b[38;5;28;01mfrom\u001b[39;00m \u001b[38;5;28;01mNone\u001b[39;00m\n\u001b[0;32m   1306\u001b[0m \u001b[38;5;28;01mexcept\u001b[39;00m \u001b[38;5;167;01mException\u001b[39;00m:\n\u001b[0;32m   1307\u001b[0m     \u001b[38;5;28mself\u001b[39m\u001b[38;5;241m.\u001b[39mlog\u001b[38;5;241m.\u001b[39mwarning(\u001b[38;5;124m\"\u001b[39m\u001b[38;5;124mInvalid Message:\u001b[39m\u001b[38;5;124m\"\u001b[39m, exc_info\u001b[38;5;241m=\u001b[39m\u001b[38;5;28;01mTrue\u001b[39;00m)\n",
      "\u001b[1;31mKeyboardInterrupt\u001b[0m: Interrupted by user"
     ]
    }
   ],
   "source": [
    "# 토마토 작물의 수입/지출액 구하시오\n",
    "item_income = 0     #수입합계\n",
    "item_income_cnt = 0 #수입건수\n",
    "item_expenses = 0   # 지출합계\n",
    "item_expenses_cnt = 0  #지출건수\n",
    "item = input('조회할 품목 이름을 입력 : ')\n",
    "\n",
    "with open('판매현황.csv','rt', newline='') as file : \n",
    "    line = file.readline() # 열머리글 읽어주기, 따로 저장x   \n",
    "    while True :   # 데이터 while반복 돌면서 읽고, li에 저장하기\n",
    "        line = file.readline()\n",
    "        if not line : \n",
    "            break\n",
    "        line = line.rstrip('\\r\\n').split(',')\n",
    "        if line[1] == '수입' and item in line[2] :\n",
    "            item_income += int(line[3])\n",
    "            item_income_cnt += 1\n",
    "        elif line[1] == '지출' and item in line[2]:\n",
    "            item_expenses = int(line[3])\n",
    "            item_expenses_cnt += 1\n",
    "\n",
    "print(f'{item} 품목')\n",
    "print(f'수입 합계 : { format(item_income,',')}원 / 건수 : {item_income_cnt}')\n",
    "print(f'지출 합계 : {format(item_expenses,',')}원 / 건수 : {item_expenses_cnt}')"
   ]
  },
  {
   "cell_type": "code",
   "execution_count": null,
   "id": "34cc08fa-0fdd-407d-a182-7ee05cbfc4f5",
   "metadata": {},
   "outputs": [],
   "source": []
  },
  {
   "cell_type": "code",
   "execution_count": null,
   "id": "3494e9d3-cfc8-4465-a1dd-57179bc8ef90",
   "metadata": {},
   "outputs": [],
   "source": []
  },
  {
   "cell_type": "code",
   "execution_count": null,
   "id": "85ef8f8c-c84c-4caa-a21e-baa3d687fa0b",
   "metadata": {},
   "outputs": [],
   "source": []
  },
  {
   "cell_type": "code",
   "execution_count": null,
   "id": "0b01bf59-55ec-4288-9946-602b592b3a07",
   "metadata": {},
   "outputs": [],
   "source": []
  }
 ],
 "metadata": {
  "kernelspec": {
   "display_name": "Python 3 (ipykernel)",
   "language": "python",
   "name": "python3"
  },
  "language_info": {
   "codemirror_mode": {
    "name": "ipython",
    "version": 3
   },
   "file_extension": ".py",
   "mimetype": "text/x-python",
   "name": "python",
   "nbconvert_exporter": "python",
   "pygments_lexer": "ipython3",
   "version": "3.12.4"
  }
 },
 "nbformat": 4,
 "nbformat_minor": 5
}
