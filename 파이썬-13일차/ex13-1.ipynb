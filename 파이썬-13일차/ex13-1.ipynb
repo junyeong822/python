{
 "cells": [
  {
   "cell_type": "code",
   "execution_count": 11,
   "id": "1f648e93-0aba-446d-931f-625b2d28172b",
   "metadata": {},
   "outputs": [
    {
     "name": "stdout",
     "output_type": "stream",
     "text": [
      "완료\n"
     ]
    }
   ],
   "source": [
    "import csv \n",
    "\n",
    "with open('차량관리.csv', 'wt', newline='') as file : \n",
    "    csv_maker = csv.writer(file, delimiter=',', quotechar='\"')\n",
    "\n",
    "    # file.write() - str 데이터로 기록\n",
    "    \n",
    "    # list로 데이터를 기록\n",
    "    csv_maker.writerow(['순번', '차량번호', '일시'])\n",
    "    csv_maker.writerow([1, '08러1234', '2020-10-20,14:00'])\n",
    "    csv_maker.writerow([2, '08러1234', '2020-10-20,14:00'])\n",
    "    csv_maker.writerow([3, '08러1234', '2020-10-20,14:00'])\n",
    "    csv_maker.writerow([4, '08러1234', '2020-10-20,14:00'])\n",
    "\n",
    "print('완료')"
   ]
  },
  {
   "cell_type": "code",
   "execution_count": 13,
   "id": "0ac81221-80ae-4055-9959-ef26e1d6866c",
   "metadata": {},
   "outputs": [
    {
     "name": "stdout",
     "output_type": "stream",
     "text": [
      "['순번', '차량번호', '일시']\n",
      "['1', '08러1234', '2020-10-20,14:00']\n",
      "['2', '08러1234', '2020-10-20,14:00']\n",
      "['3', '08러1234', '2020-10-20,14:00']\n",
      "['4', '08러1234', '2020-10-20,14:00']\n"
     ]
    }
   ],
   "source": [
    "import csv\n",
    "\n",
    "with open('차량관리.csv', 'r', newline='') as file : \n",
    "    csv_reader = csv.reader(file, delimiter=',', quotechar='\"')\n",
    "\n",
    "    for line in csv_reader : \n",
    "        print(line)"
   ]
  },
  {
   "cell_type": "code",
   "execution_count": null,
   "id": "c20bdb6e-9578-47a0-8999-147e267d6b58",
   "metadata": {},
   "outputs": [],
   "source": []
  },
  {
   "cell_type": "code",
   "execution_count": null,
   "id": "a1a45951-2038-4259-82e2-a76d82cd076e",
   "metadata": {},
   "outputs": [],
   "source": []
  },
  {
   "cell_type": "code",
   "execution_count": null,
   "id": "7dd0b7a3-de18-4eb7-bdb5-e96451ba18a2",
   "metadata": {},
   "outputs": [],
   "source": []
  },
  {
   "cell_type": "code",
   "execution_count": null,
   "id": "8f07010b-81da-4b5c-8199-edfc67db0fbe",
   "metadata": {},
   "outputs": [],
   "source": []
  },
  {
   "cell_type": "code",
   "execution_count": null,
   "id": "1b33b4ad-085b-4078-a223-50b171008488",
   "metadata": {},
   "outputs": [],
   "source": []
  },
  {
   "cell_type": "code",
   "execution_count": null,
   "id": "831250a8-57dc-4f2d-a487-ebe585e3f12a",
   "metadata": {},
   "outputs": [],
   "source": []
  }
 ],
 "metadata": {
  "kernelspec": {
   "display_name": "Python 3 (ipykernel)",
   "language": "python",
   "name": "python3"
  },
  "language_info": {
   "codemirror_mode": {
    "name": "ipython",
    "version": 3
   },
   "file_extension": ".py",
   "mimetype": "text/x-python",
   "name": "python",
   "nbconvert_exporter": "python",
   "pygments_lexer": "ipython3",
   "version": "3.12.4"
  }
 },
 "nbformat": 4,
 "nbformat_minor": 5
}
