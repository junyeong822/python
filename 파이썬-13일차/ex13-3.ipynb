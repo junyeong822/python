{
 "cells": [
  {
   "cell_type": "code",
   "execution_count": 17,
   "id": "0446400f-f31c-45e7-9983-06bfeb056efe",
   "metadata": {},
   "outputs": [
    {
     "name": "stdout",
     "output_type": "stream",
     "text": [
      "1 / 파이썬 / 파이썬초보 / 프로그래밍 시작은 파이썬으로!\n",
      "2 / 자바 / 자바개발자 / 자바로 웹서버 개발 ㄱㄱ?\n"
     ]
    }
   ],
   "source": [
    "class Post : # 설계도\n",
    "    # 클래스 안에 있는 함수 = 인스턴스 메소드\n",
    "    def my_info(self, no, title,  writer, content) :\n",
    "        # 클래스 안에 있는 변수 = 인스턴스 변수 = 필드 \n",
    "        self.no = no\n",
    "        self.title = title\n",
    "        self.writer = writer\n",
    "        self.content = content\n",
    "        \n",
    "    def info_print(self) : # self = 메모리에 할당된 나(객체)의 주소값 ex) p1객체, p1의 주소값 \n",
    "        print(f'{self.no} / {self.title} / {self.writer} / {self.content}')\n",
    "\n",
    "# Post 클래스(=설계도)의 모양대로 메모리에 할당하고, 해당 메모리의 주소값을 post1 변수명에 넣어라.\n",
    "# 해당 메모리는 post1이라는 이름으로 조작(읽기/쓰기) 가능해짐\n",
    "# 처음에 생성할 때는 값이 채워지지 않은 빈 상태임\n",
    "\n",
    "# 객체 생성 - 설계도 대로 메모리 공간에 생성 = 객체, 값x, 빈상태\n",
    "# 변수명 = 클래스() --- 설계도의 모양대로 메모리에 공간을 할당하고, 주소값을 변수에 연결한다.\n",
    "p1 = Post() \n",
    "p2 = Post()\n",
    "\n",
    "# my_info 메서드 - 실행해서 각 변수에 값을 채워 넣음\n",
    "p1.my_info(1, \"파이썬\", '파이썬초보', '프로그래밍 시작은 파이썬으로!')\n",
    "p2.my_info(2, \"자바\", \"자바개발자\", \"자바로 웹서버 개발 ㄱㄱ?\")\n",
    "\n",
    "p1.info_print()\n",
    "p2.info_print()"
   ]
  },
  {
   "cell_type": "markdown",
   "id": "25d4425c-3649-414d-96bd-f59287f7feb2",
   "metadata": {},
   "source": [
    "■ Student 클래스 설계\n",
    "1) 인스턴스 변수\n",
    "- 학번, 이름, 학년 3가지 정보\n",
    "2) 인스턴스 메서드\n",
    "- 값을 설정해주는 set_info() 메서드\n",
    "- 값을 출력해주는 print_info() 메서드"
   ]
  },
  {
   "cell_type": "code",
   "execution_count": 29,
   "id": "ece7897c-01f4-475a-bdca-cc442da76ca6",
   "metadata": {},
   "outputs": [
    {
     "name": "stdout",
     "output_type": "stream",
     "text": [
      "----학생정보----\n",
      "학번 : 100\n",
      "이름 : 이순신\n",
      "학년 : 3\n",
      "----학생정보----\n",
      "학번 : 200\n",
      "이름 : 김유신\n",
      "학년 : 2\n"
     ]
    }
   ],
   "source": [
    "# 설계도 \n",
    "class Student : # 클래스 이름 - 앞글자 항상 대문자로 시작\n",
    "    \n",
    "    # 생성자 - 초기값 설정 (객체생성과 동시에 값을 설정할 수 있게 해준다)\n",
    "    def __init__(self, studetnId, stduentName, grade) : \n",
    "        self.studetnId = studetnId\n",
    "        self.stduentName = stduentName\n",
    "        self.grade = grade\n",
    "        \n",
    "    def print_info(self) : \n",
    "        print('----학생정보----')\n",
    "        print(f'학번 : {self.studetnId}')\n",
    "        print(f'이름 : {self.stduentName}')\n",
    "        print(f'학년 : {self.grade}')\n",
    "\n",
    "# 객체생성\n",
    "stLee = Student(100, '이순신', 3)\n",
    "stKim = Student(200, '김유신', 2)\n",
    "\n",
    "stLee.print_info()\n",
    "stKim.print_info() "
   ]
  },
  {
   "cell_type": "markdown",
   "id": "5bc97abb-1a6f-4de3-86b9-e1e928b51008",
   "metadata": {},
   "source": [
    "■ Computer 클래스\n",
    "1) 클래스 설계\n",
    "- 인스턴스 변수 : cpu, ram, vag, ssd\n",
    "- 생성자, hardware_info() 메서드 - 내용 출력\n",
    "2) 객체 생성 및 출력\n",
    "- 인스턴스생성(= 객체생성) - 아래의 내용으로 초기설정하고, 정보를 출력하시오\n",
    "- desktop - i7, 16GB, gtx1060, 512GB\n",
    "- notebook - i5, 8GB, MX300, 256GB\n",
    "\n"
   ]
  },
  {
   "cell_type": "code",
   "execution_count": 38,
   "id": "0715e2b4-9a60-4c65-842d-822ad1cbeac8",
   "metadata": {},
   "outputs": [
    {
     "name": "stdout",
     "output_type": "stream",
     "text": [
      "--- Computer 정보 ---\n",
      "- cpu: i7\n",
      "- ram : 16GB\n",
      "- vga : gtx1060\n",
      "- ssd : 512GB\n",
      "--- Computer 정보 ---\n",
      "- cpu: i5\n",
      "- ram : 8GB\n",
      "- vga : MX300\n",
      "- ssd : 256GB\n"
     ]
    }
   ],
   "source": [
    "class Computer : \n",
    "    def __init__(self, cpu, ram, vga, ssd) : \n",
    "        self.cpu = cpu\n",
    "        self.ram = ram\n",
    "        self.vga = vga\n",
    "        self.ssd = ssd\n",
    "\n",
    "    def print_info(self) : \n",
    "        print('--- Computer 정보 ---')\n",
    "        print(f'- cpu: {self.cpu}')\n",
    "        print(f'- ram : {self.ram}')\n",
    "        print(f'- vga : {self.vga}')\n",
    "        print(f'- ssd : {self.ssd}')\n",
    "        \n",
    "desktop = Computer('i7', '16GB', 'gtx1060', '512GB')\n",
    "notebook = Computer('i5', '8GB', 'MX300', '256GB')\n",
    "\n",
    "desktop.print_info()\n",
    "notebook.print_info()"
   ]
  },
  {
   "cell_type": "code",
   "execution_count": null,
   "id": "3cc3dc40-3b1a-4ae3-bba5-df5275e953aa",
   "metadata": {},
   "outputs": [],
   "source": []
  }
 ],
 "metadata": {
  "kernelspec": {
   "display_name": "Python 3 (ipykernel)",
   "language": "python",
   "name": "python3"
  },
  "language_info": {
   "codemirror_mode": {
    "name": "ipython",
    "version": 3
   },
   "file_extension": ".py",
   "mimetype": "text/x-python",
   "name": "python",
   "nbconvert_exporter": "python",
   "pygments_lexer": "ipython3",
   "version": "3.12.4"
  }
 },
 "nbformat": 4,
 "nbformat_minor": 5
}
