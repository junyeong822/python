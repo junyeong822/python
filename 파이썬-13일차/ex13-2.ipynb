{
 "cells": [
  {
   "cell_type": "code",
   "execution_count": 29,
   "id": "1069f2d1-2839-4d64-b57d-aaa0d69e68e1",
   "metadata": {},
   "outputs": [
    {
     "name": "stdout",
     "output_type": "stream",
     "text": [
      "[{'name': 'james', 'age': 21, 'spec': [175.5, 70.5]}, {'name': 'John', 'age': 24, 'spec': [175.5, 70.5]}, {'name': 'Peter', 'age': 23, 'spec': [175.5, 70.5]}, {'name': 'Ander', 'age': 28, 'spec': [175.5, 70.5]}, {'name': 'Pillip', 'age': 27, 'spec': [175.5, 70.5]}]\n",
      "james 21 175.5 70.5\n",
      "John 24 175.5 70.5\n",
      "Peter 23 175.5 70.5\n",
      "Ander 28 175.5 70.5\n",
      "Pillip 27 175.5 70.5\n"
     ]
    }
   ],
   "source": [
    "import json\n",
    "\n",
    "with open('member.json', 'r') as file : \n",
    "    json_reader = file.read()\n",
    "    dict_list = json.loads(json_reader) # 파이썬에서 사용할 수 있도록 json파일을 변환(인코딩)해준다\n",
    "    print(dict_list)\n",
    "\n",
    "for dic in dict_list : \n",
    "    print(dic['name'], dic['age'], dic['spec'][0], dic['spec'][1])\n",
    "    "
   ]
  },
  {
   "cell_type": "code",
   "execution_count": 39,
   "id": "d219d50f-b2f7-4f42-ac9c-907b8cfecbaf",
   "metadata": {},
   "outputs": [
    {
     "name": "stdout",
     "output_type": "stream",
     "text": [
      "json파일 생성\n"
     ]
    }
   ],
   "source": [
    "import json\n",
    "\n",
    "# 파이썬의 딕셔너리 자료형\n",
    "dict_list = [\n",
    "    {'name': 'james', 'age': 21, 'spec': [175.5, 70.5]}, \n",
    "    {'name': 'John', 'age': 24, 'spec': [175.5, 70.5]}, \n",
    "    {'name': 'Peter', 'age': 23, 'spec': [175.5, 70.5]}, \n",
    "    {'name': 'Ander', 'age': 28, 'spec': [175.5, 70.5]}, \n",
    "    {'name': 'Pillip', 'age': 27, 'spec': [175.5, 70.5]}\n",
    "]\n",
    "\n",
    "json_string = json.dumps(dict_list) # json형태로 데이터 변환\n",
    "\n",
    "with open('member_2.json', 'w') as file : \n",
    "    file.write(json_string)\n",
    "\n",
    "print('json파일 생성')"
   ]
  },
  {
   "cell_type": "code",
   "execution_count": null,
   "id": "bf5efb7b-ed5e-40e9-b2c2-b99ba25727f2",
   "metadata": {},
   "outputs": [],
   "source": []
  },
  {
   "cell_type": "code",
   "execution_count": 77,
   "id": "164c57b0-73ac-4dda-b5fc-2917f762ac5d",
   "metadata": {},
   "outputs": [
    {
     "name": "stdout",
     "output_type": "stream",
     "text": [
      "{'서북구': 53, '동남구': 39}\n",
      "{'신당동': 1, '성정동': 4, '단대로': 1, '신부동': 4, '안서동': 2, '공설시장1길': 1, '영성동': 1, '옛농고9길': 1, '삼룡동': 3, '신방동': 3, '서부대로': 1, '쌍용동': 4, '봉명로': 1, '쌍용대로': 1, '두정중': 1, '백석동': 4, '불당동': 13, '봉명동': 1, '청당동': 3, '천안대로': 1, '직산읍': 3, '성거읍': 3, '성성동': 5, '목천읍': 3, '성환읍': 4, '광덕면': 1, '오룡동': 2, '와촌동': 1, '구성동': 2, '두정동': 4, '차암동': 1, '구룡동': 2, '부대동': 2, '다가동': 1, '입장면': 2, '동면': 1, '병천면': 2, '용곡동': 1, '풍세면': 1}\n"
     ]
    }
   ],
   "source": [
    "import csv\n",
    "\n",
    "gu_list = {}\n",
    "dong_list = {}\n",
    "\n",
    "with open('충남cctv.csv', 'r', newline='') as file : \n",
    "    csv_reader = csv.reader(file, delimiter=',', quotechar='\"')\n",
    "    for i, line in enumerate(csv_reader) : \n",
    "        # 머리글은 건너뛰고 처리하게 함\n",
    "        if i == 0 :\n",
    "            continue\n",
    "        # 나머지 처리할 문장 여기에 작성    \n",
    "        gu = line[4].split(' ')[2]\n",
    "        dong = line[4].split(' ')[3]\n",
    "        \n",
    "        if gu not in gu_list : \n",
    "            gu_list[gu] = 0\n",
    "\n",
    "        if dong not in dong_list : \n",
    "            dong_list[dong] = 0\n",
    "            \n",
    "        gu_list[gu] += 1\n",
    "        dong_list[dong] += 1\n",
    "\n",
    "print(gu_list)\n",
    "print(dong_list)"
   ]
  },
  {
   "cell_type": "code",
   "execution_count": 145,
   "id": "bc1c50eb-8394-45e8-88d6-f2bdaabfbdc5",
   "metadata": {},
   "outputs": [
    {
     "name": "stdout",
     "output_type": "stream",
     "text": [
      "합계 : 112, 평균 : 2.604651162790698\n"
     ]
    }
   ],
   "source": [
    "import json \n",
    "\n",
    "rating_list = {}\n",
    "\n",
    "with open('mock.json', 'r', encoding='UTF-8') as file : \n",
    "    json_reader = file.read()\n",
    "    mock = json.loads(json_reader) # 파이썬에서 사용할 수 있도록 json파일을 변환(인코딩)해준다\n",
    "    \n",
    "    for data in mock : \n",
    "        rating = data['rating']\n",
    "        if rating not in rating_list : \n",
    "            rating_list[rating] = 0\n",
    "        rating_list[rating] += 1\n",
    "\n",
    "# 별점의 평균을 구해서 출력하시오\n",
    "# 별점별로 몇건인지\n",
    "# sum(), len()  평균 = 합계/개수\n",
    "\n",
    "rating_sum = []\n",
    "\n",
    "for k, v in rating_list.items() : \n",
    "    rating_sum.append(k*v) # 별점*건수 = 총점\n",
    "\n",
    "rating_total = sum(rating_sum)\n",
    "\n",
    "print(f'합계 : {rating_total}, 평균 : {rating_total/len(mock)}' )"
   ]
  },
  {
   "cell_type": "code",
   "execution_count": null,
   "id": "7f8186ac-0613-414e-bf5a-c55a6a477a56",
   "metadata": {},
   "outputs": [],
   "source": []
  },
  {
   "cell_type": "code",
   "execution_count": null,
   "id": "58c119bc-b482-44f1-acb9-0d56a7e39dea",
   "metadata": {},
   "outputs": [],
   "source": []
  },
  {
   "cell_type": "code",
   "execution_count": null,
   "id": "8435adc1-bdf2-4313-b5b2-8cd675b58c7d",
   "metadata": {},
   "outputs": [],
   "source": []
  },
  {
   "cell_type": "code",
   "execution_count": null,
   "id": "12fd5b0d-68ab-40b5-9bc8-9a47fee64eba",
   "metadata": {},
   "outputs": [],
   "source": []
  },
  {
   "cell_type": "code",
   "execution_count": null,
   "id": "abdb5a15-1ecf-446c-a88d-38e6c1a3e630",
   "metadata": {},
   "outputs": [],
   "source": []
  },
  {
   "cell_type": "code",
   "execution_count": null,
   "id": "1627a9e8-d5af-4c6d-9477-d20560212763",
   "metadata": {},
   "outputs": [],
   "source": []
  }
 ],
 "metadata": {
  "kernelspec": {
   "display_name": "Python 3 (ipykernel)",
   "language": "python",
   "name": "python3"
  },
  "language_info": {
   "codemirror_mode": {
    "name": "ipython",
    "version": 3
   },
   "file_extension": ".py",
   "mimetype": "text/x-python",
   "name": "python",
   "nbconvert_exporter": "python",
   "pygments_lexer": "ipython3",
   "version": "3.12.4"
  }
 },
 "nbformat": 4,
 "nbformat_minor": 5
}
